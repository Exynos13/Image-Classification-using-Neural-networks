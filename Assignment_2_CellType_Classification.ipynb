{
  "cells": [
    {
      "cell_type": "markdown",
      "metadata": {
        "id": "NmvwmJihBNRF"
      },
      "source": [
        "Loading the Libraries"
      ]
    },
    {
      "cell_type": "code",
      "execution_count": null,
      "metadata": {
        "id": "I7celmrUBNRG"
      },
      "outputs": [],
      "source": [
        "import pandas as pd\n",
        "import numpy as np\n",
        "import matplotlib.pyplot as plt\n",
        "import seaborn as sns\n",
        "from PIL import Image\n",
        "import cv2"
      ]
    },
    {
      "cell_type": "code",
      "execution_count": null,
      "metadata": {
        "id": "bGb3KizOBNRG"
      },
      "outputs": [],
      "source": [
        "#conda install -c conda-forge opencv"
      ]
    },
    {
      "cell_type": "code",
      "execution_count": null,
      "metadata": {
        "id": "ET-VOOqWBNRH"
      },
      "outputs": [],
      "source": [
        "import zipfile\n",
        "with zipfile.ZipFile('./image_classification_data.zip', 'r') as zip_ref:\n",
        "    zip_ref.extractall('./')\n",
        "    "
      ]
    },
    {
      "cell_type": "code",
      "execution_count": null,
      "metadata": {
        "id": "4Dyz_dv2BNRH"
      },
      "outputs": [],
      "source": [
        "data = pd.read_csv('./image_classification_data/data_labels_mainData.csv')"
      ]
    },
    {
      "cell_type": "code",
      "execution_count": null,
      "metadata": {
        "id": "uwn64HoTBNRH",
        "outputId": "0999a795-9ead-4def-c736-c214e08d8b23"
      },
      "outputs": [
        {
          "data": {
            "text/html": [
              "<div>\n",
              "<style scoped>\n",
              "    .dataframe tbody tr th:only-of-type {\n",
              "        vertical-align: middle;\n",
              "    }\n",
              "\n",
              "    .dataframe tbody tr th {\n",
              "        vertical-align: top;\n",
              "    }\n",
              "\n",
              "    .dataframe thead th {\n",
              "        text-align: right;\n",
              "    }\n",
              "</style>\n",
              "<table border=\"1\" class=\"dataframe\">\n",
              "  <thead>\n",
              "    <tr style=\"text-align: right;\">\n",
              "      <th></th>\n",
              "      <th>InstanceID</th>\n",
              "      <th>patientID</th>\n",
              "      <th>ImageName</th>\n",
              "      <th>cellTypeName</th>\n",
              "      <th>cellType</th>\n",
              "      <th>isCancerous</th>\n",
              "    </tr>\n",
              "  </thead>\n",
              "  <tbody>\n",
              "    <tr>\n",
              "      <th>0</th>\n",
              "      <td>22405</td>\n",
              "      <td>1</td>\n",
              "      <td>22405.png</td>\n",
              "      <td>fibroblast</td>\n",
              "      <td>0</td>\n",
              "      <td>0</td>\n",
              "    </tr>\n",
              "    <tr>\n",
              "      <th>1</th>\n",
              "      <td>22406</td>\n",
              "      <td>1</td>\n",
              "      <td>22406.png</td>\n",
              "      <td>fibroblast</td>\n",
              "      <td>0</td>\n",
              "      <td>0</td>\n",
              "    </tr>\n",
              "    <tr>\n",
              "      <th>2</th>\n",
              "      <td>22407</td>\n",
              "      <td>1</td>\n",
              "      <td>22407.png</td>\n",
              "      <td>fibroblast</td>\n",
              "      <td>0</td>\n",
              "      <td>0</td>\n",
              "    </tr>\n",
              "    <tr>\n",
              "      <th>3</th>\n",
              "      <td>22408</td>\n",
              "      <td>1</td>\n",
              "      <td>22408.png</td>\n",
              "      <td>fibroblast</td>\n",
              "      <td>0</td>\n",
              "      <td>0</td>\n",
              "    </tr>\n",
              "    <tr>\n",
              "      <th>4</th>\n",
              "      <td>22409</td>\n",
              "      <td>1</td>\n",
              "      <td>22409.png</td>\n",
              "      <td>fibroblast</td>\n",
              "      <td>0</td>\n",
              "      <td>0</td>\n",
              "    </tr>\n",
              "    <tr>\n",
              "      <th>...</th>\n",
              "      <td>...</td>\n",
              "      <td>...</td>\n",
              "      <td>...</td>\n",
              "      <td>...</td>\n",
              "      <td>...</td>\n",
              "      <td>...</td>\n",
              "    </tr>\n",
              "    <tr>\n",
              "      <th>9891</th>\n",
              "      <td>1625</td>\n",
              "      <td>60</td>\n",
              "      <td>1625.png</td>\n",
              "      <td>epithelial</td>\n",
              "      <td>2</td>\n",
              "      <td>1</td>\n",
              "    </tr>\n",
              "    <tr>\n",
              "      <th>9892</th>\n",
              "      <td>1626</td>\n",
              "      <td>60</td>\n",
              "      <td>1626.png</td>\n",
              "      <td>epithelial</td>\n",
              "      <td>2</td>\n",
              "      <td>1</td>\n",
              "    </tr>\n",
              "    <tr>\n",
              "      <th>9893</th>\n",
              "      <td>1627</td>\n",
              "      <td>60</td>\n",
              "      <td>1627.png</td>\n",
              "      <td>epithelial</td>\n",
              "      <td>2</td>\n",
              "      <td>1</td>\n",
              "    </tr>\n",
              "    <tr>\n",
              "      <th>9894</th>\n",
              "      <td>1628</td>\n",
              "      <td>60</td>\n",
              "      <td>1628.png</td>\n",
              "      <td>epithelial</td>\n",
              "      <td>2</td>\n",
              "      <td>1</td>\n",
              "    </tr>\n",
              "    <tr>\n",
              "      <th>9895</th>\n",
              "      <td>1629</td>\n",
              "      <td>60</td>\n",
              "      <td>1629.png</td>\n",
              "      <td>epithelial</td>\n",
              "      <td>2</td>\n",
              "      <td>1</td>\n",
              "    </tr>\n",
              "  </tbody>\n",
              "</table>\n",
              "<p>9896 rows × 6 columns</p>\n",
              "</div>"
            ],
            "text/plain": [
              "      InstanceID  patientID  ImageName cellTypeName  cellType  isCancerous\n",
              "0          22405          1  22405.png   fibroblast         0            0\n",
              "1          22406          1  22406.png   fibroblast         0            0\n",
              "2          22407          1  22407.png   fibroblast         0            0\n",
              "3          22408          1  22408.png   fibroblast         0            0\n",
              "4          22409          1  22409.png   fibroblast         0            0\n",
              "...          ...        ...        ...          ...       ...          ...\n",
              "9891        1625         60   1625.png   epithelial         2            1\n",
              "9892        1626         60   1626.png   epithelial         2            1\n",
              "9893        1627         60   1627.png   epithelial         2            1\n",
              "9894        1628         60   1628.png   epithelial         2            1\n",
              "9895        1629         60   1629.png   epithelial         2            1\n",
              "\n",
              "[9896 rows x 6 columns]"
            ]
          },
          "execution_count": 5,
          "metadata": {},
          "output_type": "execute_result"
        }
      ],
      "source": [
        "data"
      ]
    },
    {
      "cell_type": "code",
      "execution_count": null,
      "metadata": {
        "id": "37ZP2Z5-BNRI"
      },
      "outputs": [],
      "source": [
        "image_folder = \"image_classification_data/patch_images/\"\n"
      ]
    },
    {
      "cell_type": "code",
      "execution_count": null,
      "metadata": {
        "id": "b40mSRqpBNRI"
      },
      "outputs": [],
      "source": [
        "#Adding image path to the dataframe\n",
        "data['image_path'] = image_folder + data['ImageName']\n"
      ]
    },
    {
      "cell_type": "code",
      "execution_count": null,
      "metadata": {
        "id": "woLeLK8eBNRI"
      },
      "outputs": [],
      "source": [
        "#Storing the image data in a list\n",
        "def load_image(path):\n",
        "    with Image.open(path) as img:\n",
        "        return img\n",
        "\n",
        "images = [load_image(path) for path in data['image_path']]"
      ]
    },
    {
      "cell_type": "code",
      "execution_count": null,
      "metadata": {
        "id": "Cpq9Anv_BNRI",
        "outputId": "f02a6297-c984-40fa-8cfc-4a60c6ff54eb"
      },
      "outputs": [
        {
          "name": "stdout",
          "output_type": "stream",
          "text": [
            "All images have the same dimensions.\n"
          ]
        }
      ],
      "source": [
        "image_dimensions = []\n",
        "\n",
        "# Iterate through the images\n",
        "for image_path in data['image_path']:\n",
        "    with Image.open(image_path) as img:\n",
        "        # Get the height and width of the image\n",
        "        width, height = img.size\n",
        "        image_dimensions.append((width, height))\n",
        "\n",
        "# Check if all image dimensions are the same\n",
        "same_dimensions = all(dim == image_dimensions[0] for dim in image_dimensions)\n",
        "\n",
        "if same_dimensions:\n",
        "    print(\"All images have the same dimensions.\")\n",
        "else:\n",
        "    print(\"Images have different dimensions.\")"
      ]
    },
    {
      "cell_type": "code",
      "execution_count": null,
      "metadata": {
        "id": "54OaWKjhBNRI"
      },
      "outputs": [],
      "source": [
        "channel=[]\n",
        "for image in images:\n",
        "    channels = image.mode\n",
        "    channel.append(channels)\n",
        "    \n"
      ]
    },
    {
      "cell_type": "code",
      "execution_count": null,
      "metadata": {
        "id": "Bp2XimGHBNRI",
        "outputId": "edd69684-717c-4876-cd43-413d4f6cf325"
      },
      "outputs": [
        {
          "name": "stdout",
          "output_type": "stream",
          "text": [
            "RGB: 9896\n"
          ]
        }
      ],
      "source": [
        "from collections import Counter\n",
        "counts = Counter(channel)\n",
        "for element, count in counts.items():\n",
        "    print(f\"{element}: {count}\")"
      ]
    },
    {
      "cell_type": "code",
      "execution_count": null,
      "metadata": {
        "id": "wB8R8_k3BNRI",
        "outputId": "f442fb90-82ab-4792-ee4a-5b94a3ac6612"
      },
      "outputs": [
        {
          "data": {
            "text/html": [
              "<div>\n",
              "<style scoped>\n",
              "    .dataframe tbody tr th:only-of-type {\n",
              "        vertical-align: middle;\n",
              "    }\n",
              "\n",
              "    .dataframe tbody tr th {\n",
              "        vertical-align: top;\n",
              "    }\n",
              "\n",
              "    .dataframe thead th {\n",
              "        text-align: right;\n",
              "    }\n",
              "</style>\n",
              "<table border=\"1\" class=\"dataframe\">\n",
              "  <thead>\n",
              "    <tr style=\"text-align: right;\">\n",
              "      <th></th>\n",
              "      <th>InstanceID</th>\n",
              "      <th>patientID</th>\n",
              "      <th>ImageName</th>\n",
              "      <th>cellTypeName</th>\n",
              "      <th>cellType</th>\n",
              "      <th>isCancerous</th>\n",
              "      <th>image_path</th>\n",
              "    </tr>\n",
              "  </thead>\n",
              "  <tbody>\n",
              "    <tr>\n",
              "      <th>0</th>\n",
              "      <td>22405</td>\n",
              "      <td>1</td>\n",
              "      <td>22405.png</td>\n",
              "      <td>fibroblast</td>\n",
              "      <td>0</td>\n",
              "      <td>0</td>\n",
              "      <td>image_classification_data/patch_images/22405.png</td>\n",
              "    </tr>\n",
              "    <tr>\n",
              "      <th>1</th>\n",
              "      <td>22406</td>\n",
              "      <td>1</td>\n",
              "      <td>22406.png</td>\n",
              "      <td>fibroblast</td>\n",
              "      <td>0</td>\n",
              "      <td>0</td>\n",
              "      <td>image_classification_data/patch_images/22406.png</td>\n",
              "    </tr>\n",
              "    <tr>\n",
              "      <th>2</th>\n",
              "      <td>22407</td>\n",
              "      <td>1</td>\n",
              "      <td>22407.png</td>\n",
              "      <td>fibroblast</td>\n",
              "      <td>0</td>\n",
              "      <td>0</td>\n",
              "      <td>image_classification_data/patch_images/22407.png</td>\n",
              "    </tr>\n",
              "    <tr>\n",
              "      <th>3</th>\n",
              "      <td>22408</td>\n",
              "      <td>1</td>\n",
              "      <td>22408.png</td>\n",
              "      <td>fibroblast</td>\n",
              "      <td>0</td>\n",
              "      <td>0</td>\n",
              "      <td>image_classification_data/patch_images/22408.png</td>\n",
              "    </tr>\n",
              "    <tr>\n",
              "      <th>4</th>\n",
              "      <td>22409</td>\n",
              "      <td>1</td>\n",
              "      <td>22409.png</td>\n",
              "      <td>fibroblast</td>\n",
              "      <td>0</td>\n",
              "      <td>0</td>\n",
              "      <td>image_classification_data/patch_images/22409.png</td>\n",
              "    </tr>\n",
              "  </tbody>\n",
              "</table>\n",
              "</div>"
            ],
            "text/plain": [
              "   InstanceID  patientID  ImageName cellTypeName  cellType  isCancerous  \\\n",
              "0       22405          1  22405.png   fibroblast         0            0   \n",
              "1       22406          1  22406.png   fibroblast         0            0   \n",
              "2       22407          1  22407.png   fibroblast         0            0   \n",
              "3       22408          1  22408.png   fibroblast         0            0   \n",
              "4       22409          1  22409.png   fibroblast         0            0   \n",
              "\n",
              "                                         image_path  \n",
              "0  image_classification_data/patch_images/22405.png  \n",
              "1  image_classification_data/patch_images/22406.png  \n",
              "2  image_classification_data/patch_images/22407.png  \n",
              "3  image_classification_data/patch_images/22408.png  \n",
              "4  image_classification_data/patch_images/22409.png  "
            ]
          },
          "execution_count": 11,
          "metadata": {},
          "output_type": "execute_result"
        }
      ],
      "source": [
        "data.head()"
      ]
    },
    {
      "cell_type": "code",
      "execution_count": null,
      "metadata": {
        "id": "ALDloaBeBNRI",
        "outputId": "4d49f334-3fa9-4c42-dad7-866aa09a44e2"
      },
      "outputs": [
        {
          "data": {
            "text/plain": [
              "[<PIL.PngImagePlugin.PngImageFile image mode=RGB size=27x27>,\n",
              " <PIL.PngImagePlugin.PngImageFile image mode=RGB size=27x27>,\n",
              " <PIL.PngImagePlugin.PngImageFile image mode=RGB size=27x27>,\n",
              " <PIL.PngImagePlugin.PngImageFile image mode=RGB size=27x27>,\n",
              " <PIL.PngImagePlugin.PngImageFile image mode=RGB size=27x27>,\n",
              " <PIL.PngImagePlugin.PngImageFile image mode=RGB size=27x27>,\n",
              " <PIL.PngImagePlugin.PngImageFile image mode=RGB size=27x27>,\n",
              " <PIL.PngImagePlugin.PngImageFile image mode=RGB size=27x27>,\n",
              " <PIL.PngImagePlugin.PngImageFile image mode=RGB size=27x27>,\n",
              " <PIL.PngImagePlugin.PngImageFile image mode=RGB size=27x27>,\n",
              " <PIL.PngImagePlugin.PngImageFile image mode=RGB size=27x27>,\n",
              " <PIL.PngImagePlugin.PngImageFile image mode=RGB size=27x27>,\n",
              " <PIL.PngImagePlugin.PngImageFile image mode=RGB size=27x27>,\n",
              " <PIL.PngImagePlugin.PngImageFile image mode=RGB size=27x27>,\n",
              " <PIL.PngImagePlugin.PngImageFile image mode=RGB size=27x27>,\n",
              " <PIL.PngImagePlugin.PngImageFile image mode=RGB size=27x27>,\n",
              " <PIL.PngImagePlugin.PngImageFile image mode=RGB size=27x27>,\n",
              " <PIL.PngImagePlugin.PngImageFile image mode=RGB size=27x27>,\n",
              " <PIL.PngImagePlugin.PngImageFile image mode=RGB size=27x27>,\n",
              " <PIL.PngImagePlugin.PngImageFile image mode=RGB size=27x27>,\n",
              " <PIL.PngImagePlugin.PngImageFile image mode=RGB size=27x27>,\n",
              " <PIL.PngImagePlugin.PngImageFile image mode=RGB size=27x27>,\n",
              " <PIL.PngImagePlugin.PngImageFile image mode=RGB size=27x27>,\n",
              " <PIL.PngImagePlugin.PngImageFile image mode=RGB size=27x27>,\n",
              " <PIL.PngImagePlugin.PngImageFile image mode=RGB size=27x27>,\n",
              " <PIL.PngImagePlugin.PngImageFile image mode=RGB size=27x27>,\n",
              " <PIL.PngImagePlugin.PngImageFile image mode=RGB size=27x27>,\n",
              " <PIL.PngImagePlugin.PngImageFile image mode=RGB size=27x27>,\n",
              " <PIL.PngImagePlugin.PngImageFile image mode=RGB size=27x27>,\n",
              " <PIL.PngImagePlugin.PngImageFile image mode=RGB size=27x27>,\n",
              " <PIL.PngImagePlugin.PngImageFile image mode=RGB size=27x27>,\n",
              " <PIL.PngImagePlugin.PngImageFile image mode=RGB size=27x27>,\n",
              " <PIL.PngImagePlugin.PngImageFile image mode=RGB size=27x27>,\n",
              " <PIL.PngImagePlugin.PngImageFile image mode=RGB size=27x27>,\n",
              " <PIL.PngImagePlugin.PngImageFile image mode=RGB size=27x27>,\n",
              " <PIL.PngImagePlugin.PngImageFile image mode=RGB size=27x27>,\n",
              " <PIL.PngImagePlugin.PngImageFile image mode=RGB size=27x27>,\n",
              " <PIL.PngImagePlugin.PngImageFile image mode=RGB size=27x27>,\n",
              " <PIL.PngImagePlugin.PngImageFile image mode=RGB size=27x27>,\n",
              " <PIL.PngImagePlugin.PngImageFile image mode=RGB size=27x27>,\n",
              " <PIL.PngImagePlugin.PngImageFile image mode=RGB size=27x27>,\n",
              " <PIL.PngImagePlugin.PngImageFile image mode=RGB size=27x27>,\n",
              " <PIL.PngImagePlugin.PngImageFile image mode=RGB size=27x27>,\n",
              " <PIL.PngImagePlugin.PngImageFile image mode=RGB size=27x27>,\n",
              " <PIL.PngImagePlugin.PngImageFile image mode=RGB size=27x27>,\n",
              " <PIL.PngImagePlugin.PngImageFile image mode=RGB size=27x27>,\n",
              " <PIL.PngImagePlugin.PngImageFile image mode=RGB size=27x27>,\n",
              " <PIL.PngImagePlugin.PngImageFile image mode=RGB size=27x27>,\n",
              " <PIL.PngImagePlugin.PngImageFile image mode=RGB size=27x27>,\n",
              " <PIL.PngImagePlugin.PngImageFile image mode=RGB size=27x27>,\n",
              " <PIL.PngImagePlugin.PngImageFile image mode=RGB size=27x27>,\n",
              " <PIL.PngImagePlugin.PngImageFile image mode=RGB size=27x27>,\n",
              " <PIL.PngImagePlugin.PngImageFile image mode=RGB size=27x27>,\n",
              " <PIL.PngImagePlugin.PngImageFile image mode=RGB size=27x27>,\n",
              " <PIL.PngImagePlugin.PngImageFile image mode=RGB size=27x27>,\n",
              " <PIL.PngImagePlugin.PngImageFile image mode=RGB size=27x27>,\n",
              " <PIL.PngImagePlugin.PngImageFile image mode=RGB size=27x27>,\n",
              " <PIL.PngImagePlugin.PngImageFile image mode=RGB size=27x27>,\n",
              " <PIL.PngImagePlugin.PngImageFile image mode=RGB size=27x27>,\n",
              " <PIL.PngImagePlugin.PngImageFile image mode=RGB size=27x27>,\n",
              " <PIL.PngImagePlugin.PngImageFile image mode=RGB size=27x27>,\n",
              " <PIL.PngImagePlugin.PngImageFile image mode=RGB size=27x27>,\n",
              " <PIL.PngImagePlugin.PngImageFile image mode=RGB size=27x27>,\n",
              " <PIL.PngImagePlugin.PngImageFile image mode=RGB size=27x27>,\n",
              " <PIL.PngImagePlugin.PngImageFile image mode=RGB size=27x27>,\n",
              " <PIL.PngImagePlugin.PngImageFile image mode=RGB size=27x27>,\n",
              " <PIL.PngImagePlugin.PngImageFile image mode=RGB size=27x27>,\n",
              " <PIL.PngImagePlugin.PngImageFile image mode=RGB size=27x27>,\n",
              " <PIL.PngImagePlugin.PngImageFile image mode=RGB size=27x27>,\n",
              " <PIL.PngImagePlugin.PngImageFile image mode=RGB size=27x27>,\n",
              " <PIL.PngImagePlugin.PngImageFile image mode=RGB size=27x27>,\n",
              " <PIL.PngImagePlugin.PngImageFile image mode=RGB size=27x27>,\n",
              " <PIL.PngImagePlugin.PngImageFile image mode=RGB size=27x27>,\n",
              " <PIL.PngImagePlugin.PngImageFile image mode=RGB size=27x27>,\n",
              " <PIL.PngImagePlugin.PngImageFile image mode=RGB size=27x27>,\n",
              " <PIL.PngImagePlugin.PngImageFile image mode=RGB size=27x27>,\n",
              " <PIL.PngImagePlugin.PngImageFile image mode=RGB size=27x27>,\n",
              " <PIL.PngImagePlugin.PngImageFile image mode=RGB size=27x27>,\n",
              " <PIL.PngImagePlugin.PngImageFile image mode=RGB size=27x27>,\n",
              " <PIL.PngImagePlugin.PngImageFile image mode=RGB size=27x27>,\n",
              " <PIL.PngImagePlugin.PngImageFile image mode=RGB size=27x27>,\n",
              " <PIL.PngImagePlugin.PngImageFile image mode=RGB size=27x27>,\n",
              " <PIL.PngImagePlugin.PngImageFile image mode=RGB size=27x27>,\n",
              " <PIL.PngImagePlugin.PngImageFile image mode=RGB size=27x27>,\n",
              " <PIL.PngImagePlugin.PngImageFile image mode=RGB size=27x27>,\n",
              " <PIL.PngImagePlugin.PngImageFile image mode=RGB size=27x27>,\n",
              " <PIL.PngImagePlugin.PngImageFile image mode=RGB size=27x27>,\n",
              " <PIL.PngImagePlugin.PngImageFile image mode=RGB size=27x27>,\n",
              " <PIL.PngImagePlugin.PngImageFile image mode=RGB size=27x27>,\n",
              " <PIL.PngImagePlugin.PngImageFile image mode=RGB size=27x27>,\n",
              " <PIL.PngImagePlugin.PngImageFile image mode=RGB size=27x27>,\n",
              " <PIL.PngImagePlugin.PngImageFile image mode=RGB size=27x27>,\n",
              " <PIL.PngImagePlugin.PngImageFile image mode=RGB size=27x27>,\n",
              " <PIL.PngImagePlugin.PngImageFile image mode=RGB size=27x27>,\n",
              " <PIL.PngImagePlugin.PngImageFile image mode=RGB size=27x27>,\n",
              " <PIL.PngImagePlugin.PngImageFile image mode=RGB size=27x27>,\n",
              " <PIL.PngImagePlugin.PngImageFile image mode=RGB size=27x27>,\n",
              " <PIL.PngImagePlugin.PngImageFile image mode=RGB size=27x27>,\n",
              " <PIL.PngImagePlugin.PngImageFile image mode=RGB size=27x27>,\n",
              " <PIL.PngImagePlugin.PngImageFile image mode=RGB size=27x27>,\n",
              " <PIL.PngImagePlugin.PngImageFile image mode=RGB size=27x27>,\n",
              " <PIL.PngImagePlugin.PngImageFile image mode=RGB size=27x27>,\n",
              " <PIL.PngImagePlugin.PngImageFile image mode=RGB size=27x27>,\n",
              " <PIL.PngImagePlugin.PngImageFile image mode=RGB size=27x27>,\n",
              " <PIL.PngImagePlugin.PngImageFile image mode=RGB size=27x27>,\n",
              " <PIL.PngImagePlugin.PngImageFile image mode=RGB size=27x27>,\n",
              " <PIL.PngImagePlugin.PngImageFile image mode=RGB size=27x27>,\n",
              " <PIL.PngImagePlugin.PngImageFile image mode=RGB size=27x27>,\n",
              " <PIL.PngImagePlugin.PngImageFile image mode=RGB size=27x27>,\n",
              " <PIL.PngImagePlugin.PngImageFile image mode=RGB size=27x27>,\n",
              " <PIL.PngImagePlugin.PngImageFile image mode=RGB size=27x27>,\n",
              " <PIL.PngImagePlugin.PngImageFile image mode=RGB size=27x27>,\n",
              " <PIL.PngImagePlugin.PngImageFile image mode=RGB size=27x27>,\n",
              " <PIL.PngImagePlugin.PngImageFile image mode=RGB size=27x27>,\n",
              " <PIL.PngImagePlugin.PngImageFile image mode=RGB size=27x27>,\n",
              " <PIL.PngImagePlugin.PngImageFile image mode=RGB size=27x27>,\n",
              " <PIL.PngImagePlugin.PngImageFile image mode=RGB size=27x27>,\n",
              " <PIL.PngImagePlugin.PngImageFile image mode=RGB size=27x27>,\n",
              " <PIL.PngImagePlugin.PngImageFile image mode=RGB size=27x27>,\n",
              " <PIL.PngImagePlugin.PngImageFile image mode=RGB size=27x27>,\n",
              " <PIL.PngImagePlugin.PngImageFile image mode=RGB size=27x27>,\n",
              " <PIL.PngImagePlugin.PngImageFile image mode=RGB size=27x27>,\n",
              " <PIL.PngImagePlugin.PngImageFile image mode=RGB size=27x27>,\n",
              " <PIL.PngImagePlugin.PngImageFile image mode=RGB size=27x27>,\n",
              " <PIL.PngImagePlugin.PngImageFile image mode=RGB size=27x27>,\n",
              " <PIL.PngImagePlugin.PngImageFile image mode=RGB size=27x27>,\n",
              " <PIL.PngImagePlugin.PngImageFile image mode=RGB size=27x27>,\n",
              " <PIL.PngImagePlugin.PngImageFile image mode=RGB size=27x27>,\n",
              " <PIL.PngImagePlugin.PngImageFile image mode=RGB size=27x27>,\n",
              " <PIL.PngImagePlugin.PngImageFile image mode=RGB size=27x27>,\n",
              " <PIL.PngImagePlugin.PngImageFile image mode=RGB size=27x27>,\n",
              " <PIL.PngImagePlugin.PngImageFile image mode=RGB size=27x27>,\n",
              " <PIL.PngImagePlugin.PngImageFile image mode=RGB size=27x27>,\n",
              " <PIL.PngImagePlugin.PngImageFile image mode=RGB size=27x27>,\n",
              " <PIL.PngImagePlugin.PngImageFile image mode=RGB size=27x27>,\n",
              " <PIL.PngImagePlugin.PngImageFile image mode=RGB size=27x27>,\n",
              " <PIL.PngImagePlugin.PngImageFile image mode=RGB size=27x27>,\n",
              " <PIL.PngImagePlugin.PngImageFile image mode=RGB size=27x27>,\n",
              " <PIL.PngImagePlugin.PngImageFile image mode=RGB size=27x27>,\n",
              " <PIL.PngImagePlugin.PngImageFile image mode=RGB size=27x27>,\n",
              " <PIL.PngImagePlugin.PngImageFile image mode=RGB size=27x27>,\n",
              " <PIL.PngImagePlugin.PngImageFile image mode=RGB size=27x27>,\n",
              " <PIL.PngImagePlugin.PngImageFile image mode=RGB size=27x27>,\n",
              " <PIL.PngImagePlugin.PngImageFile image mode=RGB size=27x27>,\n",
              " <PIL.PngImagePlugin.PngImageFile image mode=RGB size=27x27>,\n",
              " <PIL.PngImagePlugin.PngImageFile image mode=RGB size=27x27>,\n",
              " <PIL.PngImagePlugin.PngImageFile image mode=RGB size=27x27>,\n",
              " <PIL.PngImagePlugin.PngImageFile image mode=RGB size=27x27>,\n",
              " <PIL.PngImagePlugin.PngImageFile image mode=RGB size=27x27>,\n",
              " <PIL.PngImagePlugin.PngImageFile image mode=RGB size=27x27>,\n",
              " <PIL.PngImagePlugin.PngImageFile image mode=RGB size=27x27>,\n",
              " <PIL.PngImagePlugin.PngImageFile image mode=RGB size=27x27>,\n",
              " <PIL.PngImagePlugin.PngImageFile image mode=RGB size=27x27>,\n",
              " <PIL.PngImagePlugin.PngImageFile image mode=RGB size=27x27>,\n",
              " <PIL.PngImagePlugin.PngImageFile image mode=RGB size=27x27>,\n",
              " <PIL.PngImagePlugin.PngImageFile image mode=RGB size=27x27>,\n",
              " <PIL.PngImagePlugin.PngImageFile image mode=RGB size=27x27>,\n",
              " <PIL.PngImagePlugin.PngImageFile image mode=RGB size=27x27>,\n",
              " <PIL.PngImagePlugin.PngImageFile image mode=RGB size=27x27>,\n",
              " <PIL.PngImagePlugin.PngImageFile image mode=RGB size=27x27>,\n",
              " <PIL.PngImagePlugin.PngImageFile image mode=RGB size=27x27>,\n",
              " <PIL.PngImagePlugin.PngImageFile image mode=RGB size=27x27>,\n",
              " <PIL.PngImagePlugin.PngImageFile image mode=RGB size=27x27>,\n",
              " <PIL.PngImagePlugin.PngImageFile image mode=RGB size=27x27>,\n",
              " <PIL.PngImagePlugin.PngImageFile image mode=RGB size=27x27>,\n",
              " <PIL.PngImagePlugin.PngImageFile image mode=RGB size=27x27>,\n",
              " <PIL.PngImagePlugin.PngImageFile image mode=RGB size=27x27>,\n",
              " <PIL.PngImagePlugin.PngImageFile image mode=RGB size=27x27>,\n",
              " <PIL.PngImagePlugin.PngImageFile image mode=RGB size=27x27>,\n",
              " <PIL.PngImagePlugin.PngImageFile image mode=RGB size=27x27>,\n",
              " <PIL.PngImagePlugin.PngImageFile image mode=RGB size=27x27>,\n",
              " <PIL.PngImagePlugin.PngImageFile image mode=RGB size=27x27>,\n",
              " <PIL.PngImagePlugin.PngImageFile image mode=RGB size=27x27>,\n",
              " <PIL.PngImagePlugin.PngImageFile image mode=RGB size=27x27>,\n",
              " <PIL.PngImagePlugin.PngImageFile image mode=RGB size=27x27>,\n",
              " <PIL.PngImagePlugin.PngImageFile image mode=RGB size=27x27>,\n",
              " <PIL.PngImagePlugin.PngImageFile image mode=RGB size=27x27>,\n",
              " <PIL.PngImagePlugin.PngImageFile image mode=RGB size=27x27>,\n",
              " <PIL.PngImagePlugin.PngImageFile image mode=RGB size=27x27>,\n",
              " <PIL.PngImagePlugin.PngImageFile image mode=RGB size=27x27>,\n",
              " <PIL.PngImagePlugin.PngImageFile image mode=RGB size=27x27>,\n",
              " <PIL.PngImagePlugin.PngImageFile image mode=RGB size=27x27>,\n",
              " <PIL.PngImagePlugin.PngImageFile image mode=RGB size=27x27>,\n",
              " <PIL.PngImagePlugin.PngImageFile image mode=RGB size=27x27>,\n",
              " <PIL.PngImagePlugin.PngImageFile image mode=RGB size=27x27>,\n",
              " <PIL.PngImagePlugin.PngImageFile image mode=RGB size=27x27>,\n",
              " <PIL.PngImagePlugin.PngImageFile image mode=RGB size=27x27>,\n",
              " <PIL.PngImagePlugin.PngImageFile image mode=RGB size=27x27>,\n",
              " <PIL.PngImagePlugin.PngImageFile image mode=RGB size=27x27>,\n",
              " <PIL.PngImagePlugin.PngImageFile image mode=RGB size=27x27>,\n",
              " <PIL.PngImagePlugin.PngImageFile image mode=RGB size=27x27>,\n",
              " <PIL.PngImagePlugin.PngImageFile image mode=RGB size=27x27>,\n",
              " <PIL.PngImagePlugin.PngImageFile image mode=RGB size=27x27>,\n",
              " <PIL.PngImagePlugin.PngImageFile image mode=RGB size=27x27>,\n",
              " <PIL.PngImagePlugin.PngImageFile image mode=RGB size=27x27>,\n",
              " <PIL.PngImagePlugin.PngImageFile image mode=RGB size=27x27>,\n",
              " <PIL.PngImagePlugin.PngImageFile image mode=RGB size=27x27>,\n",
              " <PIL.PngImagePlugin.PngImageFile image mode=RGB size=27x27>,\n",
              " <PIL.PngImagePlugin.PngImageFile image mode=RGB size=27x27>,\n",
              " <PIL.PngImagePlugin.PngImageFile image mode=RGB size=27x27>,\n",
              " <PIL.PngImagePlugin.PngImageFile image mode=RGB size=27x27>,\n",
              " <PIL.PngImagePlugin.PngImageFile image mode=RGB size=27x27>,\n",
              " <PIL.PngImagePlugin.PngImageFile image mode=RGB size=27x27>,\n",
              " <PIL.PngImagePlugin.PngImageFile image mode=RGB size=27x27>,\n",
              " <PIL.PngImagePlugin.PngImageFile image mode=RGB size=27x27>,\n",
              " <PIL.PngImagePlugin.PngImageFile image mode=RGB size=27x27>,\n",
              " <PIL.PngImagePlugin.PngImageFile image mode=RGB size=27x27>,\n",
              " <PIL.PngImagePlugin.PngImageFile image mode=RGB size=27x27>,\n",
              " <PIL.PngImagePlugin.PngImageFile image mode=RGB size=27x27>,\n",
              " <PIL.PngImagePlugin.PngImageFile image mode=RGB size=27x27>,\n",
              " <PIL.PngImagePlugin.PngImageFile image mode=RGB size=27x27>,\n",
              " <PIL.PngImagePlugin.PngImageFile image mode=RGB size=27x27>,\n",
              " <PIL.PngImagePlugin.PngImageFile image mode=RGB size=27x27>,\n",
              " <PIL.PngImagePlugin.PngImageFile image mode=RGB size=27x27>,\n",
              " <PIL.PngImagePlugin.PngImageFile image mode=RGB size=27x27>,\n",
              " <PIL.PngImagePlugin.PngImageFile image mode=RGB size=27x27>,\n",
              " <PIL.PngImagePlugin.PngImageFile image mode=RGB size=27x27>,\n",
              " <PIL.PngImagePlugin.PngImageFile image mode=RGB size=27x27>,\n",
              " <PIL.PngImagePlugin.PngImageFile image mode=RGB size=27x27>,\n",
              " <PIL.PngImagePlugin.PngImageFile image mode=RGB size=27x27>,\n",
              " <PIL.PngImagePlugin.PngImageFile image mode=RGB size=27x27>,\n",
              " <PIL.PngImagePlugin.PngImageFile image mode=RGB size=27x27>,\n",
              " <PIL.PngImagePlugin.PngImageFile image mode=RGB size=27x27>,\n",
              " <PIL.PngImagePlugin.PngImageFile image mode=RGB size=27x27>,\n",
              " <PIL.PngImagePlugin.PngImageFile image mode=RGB size=27x27>,\n",
              " <PIL.PngImagePlugin.PngImageFile image mode=RGB size=27x27>,\n",
              " <PIL.PngImagePlugin.PngImageFile image mode=RGB size=27x27>,\n",
              " <PIL.PngImagePlugin.PngImageFile image mode=RGB size=27x27>,\n",
              " <PIL.PngImagePlugin.PngImageFile image mode=RGB size=27x27>,\n",
              " <PIL.PngImagePlugin.PngImageFile image mode=RGB size=27x27>,\n",
              " <PIL.PngImagePlugin.PngImageFile image mode=RGB size=27x27>,\n",
              " <PIL.PngImagePlugin.PngImageFile image mode=RGB size=27x27>,\n",
              " <PIL.PngImagePlugin.PngImageFile image mode=RGB size=27x27>,\n",
              " <PIL.PngImagePlugin.PngImageFile image mode=RGB size=27x27>,\n",
              " <PIL.PngImagePlugin.PngImageFile image mode=RGB size=27x27>,\n",
              " <PIL.PngImagePlugin.PngImageFile image mode=RGB size=27x27>,\n",
              " <PIL.PngImagePlugin.PngImageFile image mode=RGB size=27x27>,\n",
              " <PIL.PngImagePlugin.PngImageFile image mode=RGB size=27x27>,\n",
              " <PIL.PngImagePlugin.PngImageFile image mode=RGB size=27x27>,\n",
              " <PIL.PngImagePlugin.PngImageFile image mode=RGB size=27x27>,\n",
              " <PIL.PngImagePlugin.PngImageFile image mode=RGB size=27x27>,\n",
              " <PIL.PngImagePlugin.PngImageFile image mode=RGB size=27x27>,\n",
              " <PIL.PngImagePlugin.PngImageFile image mode=RGB size=27x27>,\n",
              " <PIL.PngImagePlugin.PngImageFile image mode=RGB size=27x27>,\n",
              " <PIL.PngImagePlugin.PngImageFile image mode=RGB size=27x27>,\n",
              " <PIL.PngImagePlugin.PngImageFile image mode=RGB size=27x27>,\n",
              " <PIL.PngImagePlugin.PngImageFile image mode=RGB size=27x27>,\n",
              " <PIL.PngImagePlugin.PngImageFile image mode=RGB size=27x27>,\n",
              " <PIL.PngImagePlugin.PngImageFile image mode=RGB size=27x27>,\n",
              " <PIL.PngImagePlugin.PngImageFile image mode=RGB size=27x27>,\n",
              " <PIL.PngImagePlugin.PngImageFile image mode=RGB size=27x27>,\n",
              " <PIL.PngImagePlugin.PngImageFile image mode=RGB size=27x27>,\n",
              " <PIL.PngImagePlugin.PngImageFile image mode=RGB size=27x27>,\n",
              " <PIL.PngImagePlugin.PngImageFile image mode=RGB size=27x27>,\n",
              " <PIL.PngImagePlugin.PngImageFile image mode=RGB size=27x27>,\n",
              " <PIL.PngImagePlugin.PngImageFile image mode=RGB size=27x27>,\n",
              " <PIL.PngImagePlugin.PngImageFile image mode=RGB size=27x27>,\n",
              " <PIL.PngImagePlugin.PngImageFile image mode=RGB size=27x27>,\n",
              " <PIL.PngImagePlugin.PngImageFile image mode=RGB size=27x27>,\n",
              " <PIL.PngImagePlugin.PngImageFile image mode=RGB size=27x27>,\n",
              " <PIL.PngImagePlugin.PngImageFile image mode=RGB size=27x27>,\n",
              " <PIL.PngImagePlugin.PngImageFile image mode=RGB size=27x27>,\n",
              " <PIL.PngImagePlugin.PngImageFile image mode=RGB size=27x27>,\n",
              " <PIL.PngImagePlugin.PngImageFile image mode=RGB size=27x27>,\n",
              " <PIL.PngImagePlugin.PngImageFile image mode=RGB size=27x27>,\n",
              " <PIL.PngImagePlugin.PngImageFile image mode=RGB size=27x27>,\n",
              " <PIL.PngImagePlugin.PngImageFile image mode=RGB size=27x27>,\n",
              " <PIL.PngImagePlugin.PngImageFile image mode=RGB size=27x27>,\n",
              " <PIL.PngImagePlugin.PngImageFile image mode=RGB size=27x27>,\n",
              " <PIL.PngImagePlugin.PngImageFile image mode=RGB size=27x27>,\n",
              " <PIL.PngImagePlugin.PngImageFile image mode=RGB size=27x27>,\n",
              " <PIL.PngImagePlugin.PngImageFile image mode=RGB size=27x27>,\n",
              " <PIL.PngImagePlugin.PngImageFile image mode=RGB size=27x27>,\n",
              " <PIL.PngImagePlugin.PngImageFile image mode=RGB size=27x27>,\n",
              " <PIL.PngImagePlugin.PngImageFile image mode=RGB size=27x27>,\n",
              " <PIL.PngImagePlugin.PngImageFile image mode=RGB size=27x27>,\n",
              " <PIL.PngImagePlugin.PngImageFile image mode=RGB size=27x27>,\n",
              " <PIL.PngImagePlugin.PngImageFile image mode=RGB size=27x27>,\n",
              " <PIL.PngImagePlugin.PngImageFile image mode=RGB size=27x27>,\n",
              " <PIL.PngImagePlugin.PngImageFile image mode=RGB size=27x27>,\n",
              " <PIL.PngImagePlugin.PngImageFile image mode=RGB size=27x27>,\n",
              " <PIL.PngImagePlugin.PngImageFile image mode=RGB size=27x27>,\n",
              " <PIL.PngImagePlugin.PngImageFile image mode=RGB size=27x27>,\n",
              " <PIL.PngImagePlugin.PngImageFile image mode=RGB size=27x27>,\n",
              " <PIL.PngImagePlugin.PngImageFile image mode=RGB size=27x27>,\n",
              " <PIL.PngImagePlugin.PngImageFile image mode=RGB size=27x27>,\n",
              " <PIL.PngImagePlugin.PngImageFile image mode=RGB size=27x27>,\n",
              " <PIL.PngImagePlugin.PngImageFile image mode=RGB size=27x27>,\n",
              " <PIL.PngImagePlugin.PngImageFile image mode=RGB size=27x27>,\n",
              " <PIL.PngImagePlugin.PngImageFile image mode=RGB size=27x27>,\n",
              " <PIL.PngImagePlugin.PngImageFile image mode=RGB size=27x27>,\n",
              " <PIL.PngImagePlugin.PngImageFile image mode=RGB size=27x27>,\n",
              " <PIL.PngImagePlugin.PngImageFile image mode=RGB size=27x27>,\n",
              " <PIL.PngImagePlugin.PngImageFile image mode=RGB size=27x27>,\n",
              " <PIL.PngImagePlugin.PngImageFile image mode=RGB size=27x27>,\n",
              " <PIL.PngImagePlugin.PngImageFile image mode=RGB size=27x27>,\n",
              " <PIL.PngImagePlugin.PngImageFile image mode=RGB size=27x27>,\n",
              " <PIL.PngImagePlugin.PngImageFile image mode=RGB size=27x27>,\n",
              " <PIL.PngImagePlugin.PngImageFile image mode=RGB size=27x27>,\n",
              " <PIL.PngImagePlugin.PngImageFile image mode=RGB size=27x27>,\n",
              " <PIL.PngImagePlugin.PngImageFile image mode=RGB size=27x27>,\n",
              " <PIL.PngImagePlugin.PngImageFile image mode=RGB size=27x27>,\n",
              " <PIL.PngImagePlugin.PngImageFile image mode=RGB size=27x27>,\n",
              " <PIL.PngImagePlugin.PngImageFile image mode=RGB size=27x27>,\n",
              " <PIL.PngImagePlugin.PngImageFile image mode=RGB size=27x27>,\n",
              " <PIL.PngImagePlugin.PngImageFile image mode=RGB size=27x27>,\n",
              " <PIL.PngImagePlugin.PngImageFile image mode=RGB size=27x27>,\n",
              " <PIL.PngImagePlugin.PngImageFile image mode=RGB size=27x27>,\n",
              " <PIL.PngImagePlugin.PngImageFile image mode=RGB size=27x27>,\n",
              " <PIL.PngImagePlugin.PngImageFile image mode=RGB size=27x27>,\n",
              " <PIL.PngImagePlugin.PngImageFile image mode=RGB size=27x27>,\n",
              " <PIL.PngImagePlugin.PngImageFile image mode=RGB size=27x27>,\n",
              " <PIL.PngImagePlugin.PngImageFile image mode=RGB size=27x27>,\n",
              " <PIL.PngImagePlugin.PngImageFile image mode=RGB size=27x27>,\n",
              " <PIL.PngImagePlugin.PngImageFile image mode=RGB size=27x27>,\n",
              " <PIL.PngImagePlugin.PngImageFile image mode=RGB size=27x27>,\n",
              " <PIL.PngImagePlugin.PngImageFile image mode=RGB size=27x27>,\n",
              " <PIL.PngImagePlugin.PngImageFile image mode=RGB size=27x27>,\n",
              " <PIL.PngImagePlugin.PngImageFile image mode=RGB size=27x27>,\n",
              " <PIL.PngImagePlugin.PngImageFile image mode=RGB size=27x27>,\n",
              " <PIL.PngImagePlugin.PngImageFile image mode=RGB size=27x27>,\n",
              " <PIL.PngImagePlugin.PngImageFile image mode=RGB size=27x27>,\n",
              " <PIL.PngImagePlugin.PngImageFile image mode=RGB size=27x27>,\n",
              " <PIL.PngImagePlugin.PngImageFile image mode=RGB size=27x27>,\n",
              " <PIL.PngImagePlugin.PngImageFile image mode=RGB size=27x27>,\n",
              " <PIL.PngImagePlugin.PngImageFile image mode=RGB size=27x27>,\n",
              " <PIL.PngImagePlugin.PngImageFile image mode=RGB size=27x27>,\n",
              " <PIL.PngImagePlugin.PngImageFile image mode=RGB size=27x27>,\n",
              " <PIL.PngImagePlugin.PngImageFile image mode=RGB size=27x27>,\n",
              " <PIL.PngImagePlugin.PngImageFile image mode=RGB size=27x27>,\n",
              " <PIL.PngImagePlugin.PngImageFile image mode=RGB size=27x27>,\n",
              " <PIL.PngImagePlugin.PngImageFile image mode=RGB size=27x27>,\n",
              " <PIL.PngImagePlugin.PngImageFile image mode=RGB size=27x27>,\n",
              " <PIL.PngImagePlugin.PngImageFile image mode=RGB size=27x27>,\n",
              " <PIL.PngImagePlugin.PngImageFile image mode=RGB size=27x27>,\n",
              " <PIL.PngImagePlugin.PngImageFile image mode=RGB size=27x27>,\n",
              " <PIL.PngImagePlugin.PngImageFile image mode=RGB size=27x27>,\n",
              " <PIL.PngImagePlugin.PngImageFile image mode=RGB size=27x27>,\n",
              " <PIL.PngImagePlugin.PngImageFile image mode=RGB size=27x27>,\n",
              " <PIL.PngImagePlugin.PngImageFile image mode=RGB size=27x27>,\n",
              " <PIL.PngImagePlugin.PngImageFile image mode=RGB size=27x27>,\n",
              " <PIL.PngImagePlugin.PngImageFile image mode=RGB size=27x27>,\n",
              " <PIL.PngImagePlugin.PngImageFile image mode=RGB size=27x27>,\n",
              " <PIL.PngImagePlugin.PngImageFile image mode=RGB size=27x27>,\n",
              " <PIL.PngImagePlugin.PngImageFile image mode=RGB size=27x27>,\n",
              " <PIL.PngImagePlugin.PngImageFile image mode=RGB size=27x27>,\n",
              " <PIL.PngImagePlugin.PngImageFile image mode=RGB size=27x27>,\n",
              " <PIL.PngImagePlugin.PngImageFile image mode=RGB size=27x27>,\n",
              " <PIL.PngImagePlugin.PngImageFile image mode=RGB size=27x27>,\n",
              " <PIL.PngImagePlugin.PngImageFile image mode=RGB size=27x27>,\n",
              " <PIL.PngImagePlugin.PngImageFile image mode=RGB size=27x27>,\n",
              " <PIL.PngImagePlugin.PngImageFile image mode=RGB size=27x27>,\n",
              " <PIL.PngImagePlugin.PngImageFile image mode=RGB size=27x27>,\n",
              " <PIL.PngImagePlugin.PngImageFile image mode=RGB size=27x27>,\n",
              " <PIL.PngImagePlugin.PngImageFile image mode=RGB size=27x27>,\n",
              " <PIL.PngImagePlugin.PngImageFile image mode=RGB size=27x27>,\n",
              " <PIL.PngImagePlugin.PngImageFile image mode=RGB size=27x27>,\n",
              " <PIL.PngImagePlugin.PngImageFile image mode=RGB size=27x27>,\n",
              " <PIL.PngImagePlugin.PngImageFile image mode=RGB size=27x27>,\n",
              " <PIL.PngImagePlugin.PngImageFile image mode=RGB size=27x27>,\n",
              " <PIL.PngImagePlugin.PngImageFile image mode=RGB size=27x27>,\n",
              " <PIL.PngImagePlugin.PngImageFile image mode=RGB size=27x27>,\n",
              " <PIL.PngImagePlugin.PngImageFile image mode=RGB size=27x27>,\n",
              " <PIL.PngImagePlugin.PngImageFile image mode=RGB size=27x27>,\n",
              " <PIL.PngImagePlugin.PngImageFile image mode=RGB size=27x27>,\n",
              " <PIL.PngImagePlugin.PngImageFile image mode=RGB size=27x27>,\n",
              " <PIL.PngImagePlugin.PngImageFile image mode=RGB size=27x27>,\n",
              " <PIL.PngImagePlugin.PngImageFile image mode=RGB size=27x27>,\n",
              " <PIL.PngImagePlugin.PngImageFile image mode=RGB size=27x27>,\n",
              " <PIL.PngImagePlugin.PngImageFile image mode=RGB size=27x27>,\n",
              " <PIL.PngImagePlugin.PngImageFile image mode=RGB size=27x27>,\n",
              " <PIL.PngImagePlugin.PngImageFile image mode=RGB size=27x27>,\n",
              " <PIL.PngImagePlugin.PngImageFile image mode=RGB size=27x27>,\n",
              " <PIL.PngImagePlugin.PngImageFile image mode=RGB size=27x27>,\n",
              " <PIL.PngImagePlugin.PngImageFile image mode=RGB size=27x27>,\n",
              " <PIL.PngImagePlugin.PngImageFile image mode=RGB size=27x27>,\n",
              " <PIL.PngImagePlugin.PngImageFile image mode=RGB size=27x27>,\n",
              " <PIL.PngImagePlugin.PngImageFile image mode=RGB size=27x27>,\n",
              " <PIL.PngImagePlugin.PngImageFile image mode=RGB size=27x27>,\n",
              " <PIL.PngImagePlugin.PngImageFile image mode=RGB size=27x27>,\n",
              " <PIL.PngImagePlugin.PngImageFile image mode=RGB size=27x27>,\n",
              " <PIL.PngImagePlugin.PngImageFile image mode=RGB size=27x27>,\n",
              " <PIL.PngImagePlugin.PngImageFile image mode=RGB size=27x27>,\n",
              " <PIL.PngImagePlugin.PngImageFile image mode=RGB size=27x27>,\n",
              " <PIL.PngImagePlugin.PngImageFile image mode=RGB size=27x27>,\n",
              " <PIL.PngImagePlugin.PngImageFile image mode=RGB size=27x27>,\n",
              " <PIL.PngImagePlugin.PngImageFile image mode=RGB size=27x27>,\n",
              " <PIL.PngImagePlugin.PngImageFile image mode=RGB size=27x27>,\n",
              " <PIL.PngImagePlugin.PngImageFile image mode=RGB size=27x27>,\n",
              " <PIL.PngImagePlugin.PngImageFile image mode=RGB size=27x27>,\n",
              " <PIL.PngImagePlugin.PngImageFile image mode=RGB size=27x27>,\n",
              " <PIL.PngImagePlugin.PngImageFile image mode=RGB size=27x27>,\n",
              " <PIL.PngImagePlugin.PngImageFile image mode=RGB size=27x27>,\n",
              " <PIL.PngImagePlugin.PngImageFile image mode=RGB size=27x27>,\n",
              " <PIL.PngImagePlugin.PngImageFile image mode=RGB size=27x27>,\n",
              " <PIL.PngImagePlugin.PngImageFile image mode=RGB size=27x27>,\n",
              " <PIL.PngImagePlugin.PngImageFile image mode=RGB size=27x27>,\n",
              " <PIL.PngImagePlugin.PngImageFile image mode=RGB size=27x27>,\n",
              " <PIL.PngImagePlugin.PngImageFile image mode=RGB size=27x27>,\n",
              " <PIL.PngImagePlugin.PngImageFile image mode=RGB size=27x27>,\n",
              " <PIL.PngImagePlugin.PngImageFile image mode=RGB size=27x27>,\n",
              " <PIL.PngImagePlugin.PngImageFile image mode=RGB size=27x27>,\n",
              " <PIL.PngImagePlugin.PngImageFile image mode=RGB size=27x27>,\n",
              " <PIL.PngImagePlugin.PngImageFile image mode=RGB size=27x27>,\n",
              " <PIL.PngImagePlugin.PngImageFile image mode=RGB size=27x27>,\n",
              " <PIL.PngImagePlugin.PngImageFile image mode=RGB size=27x27>,\n",
              " <PIL.PngImagePlugin.PngImageFile image mode=RGB size=27x27>,\n",
              " <PIL.PngImagePlugin.PngImageFile image mode=RGB size=27x27>,\n",
              " <PIL.PngImagePlugin.PngImageFile image mode=RGB size=27x27>,\n",
              " <PIL.PngImagePlugin.PngImageFile image mode=RGB size=27x27>,\n",
              " <PIL.PngImagePlugin.PngImageFile image mode=RGB size=27x27>,\n",
              " <PIL.PngImagePlugin.PngImageFile image mode=RGB size=27x27>,\n",
              " <PIL.PngImagePlugin.PngImageFile image mode=RGB size=27x27>,\n",
              " <PIL.PngImagePlugin.PngImageFile image mode=RGB size=27x27>,\n",
              " <PIL.PngImagePlugin.PngImageFile image mode=RGB size=27x27>,\n",
              " <PIL.PngImagePlugin.PngImageFile image mode=RGB size=27x27>,\n",
              " <PIL.PngImagePlugin.PngImageFile image mode=RGB size=27x27>,\n",
              " <PIL.PngImagePlugin.PngImageFile image mode=RGB size=27x27>,\n",
              " <PIL.PngImagePlugin.PngImageFile image mode=RGB size=27x27>,\n",
              " <PIL.PngImagePlugin.PngImageFile image mode=RGB size=27x27>,\n",
              " <PIL.PngImagePlugin.PngImageFile image mode=RGB size=27x27>,\n",
              " <PIL.PngImagePlugin.PngImageFile image mode=RGB size=27x27>,\n",
              " <PIL.PngImagePlugin.PngImageFile image mode=RGB size=27x27>,\n",
              " <PIL.PngImagePlugin.PngImageFile image mode=RGB size=27x27>,\n",
              " <PIL.PngImagePlugin.PngImageFile image mode=RGB size=27x27>,\n",
              " <PIL.PngImagePlugin.PngImageFile image mode=RGB size=27x27>,\n",
              " <PIL.PngImagePlugin.PngImageFile image mode=RGB size=27x27>,\n",
              " <PIL.PngImagePlugin.PngImageFile image mode=RGB size=27x27>,\n",
              " <PIL.PngImagePlugin.PngImageFile image mode=RGB size=27x27>,\n",
              " <PIL.PngImagePlugin.PngImageFile image mode=RGB size=27x27>,\n",
              " <PIL.PngImagePlugin.PngImageFile image mode=RGB size=27x27>,\n",
              " <PIL.PngImagePlugin.PngImageFile image mode=RGB size=27x27>,\n",
              " <PIL.PngImagePlugin.PngImageFile image mode=RGB size=27x27>,\n",
              " <PIL.PngImagePlugin.PngImageFile image mode=RGB size=27x27>,\n",
              " <PIL.PngImagePlugin.PngImageFile image mode=RGB size=27x27>,\n",
              " <PIL.PngImagePlugin.PngImageFile image mode=RGB size=27x27>,\n",
              " <PIL.PngImagePlugin.PngImageFile image mode=RGB size=27x27>,\n",
              " <PIL.PngImagePlugin.PngImageFile image mode=RGB size=27x27>,\n",
              " <PIL.PngImagePlugin.PngImageFile image mode=RGB size=27x27>,\n",
              " <PIL.PngImagePlugin.PngImageFile image mode=RGB size=27x27>,\n",
              " <PIL.PngImagePlugin.PngImageFile image mode=RGB size=27x27>,\n",
              " <PIL.PngImagePlugin.PngImageFile image mode=RGB size=27x27>,\n",
              " <PIL.PngImagePlugin.PngImageFile image mode=RGB size=27x27>,\n",
              " <PIL.PngImagePlugin.PngImageFile image mode=RGB size=27x27>,\n",
              " <PIL.PngImagePlugin.PngImageFile image mode=RGB size=27x27>,\n",
              " <PIL.PngImagePlugin.PngImageFile image mode=RGB size=27x27>,\n",
              " <PIL.PngImagePlugin.PngImageFile image mode=RGB size=27x27>,\n",
              " <PIL.PngImagePlugin.PngImageFile image mode=RGB size=27x27>,\n",
              " <PIL.PngImagePlugin.PngImageFile image mode=RGB size=27x27>,\n",
              " <PIL.PngImagePlugin.PngImageFile image mode=RGB size=27x27>,\n",
              " <PIL.PngImagePlugin.PngImageFile image mode=RGB size=27x27>,\n",
              " <PIL.PngImagePlugin.PngImageFile image mode=RGB size=27x27>,\n",
              " <PIL.PngImagePlugin.PngImageFile image mode=RGB size=27x27>,\n",
              " <PIL.PngImagePlugin.PngImageFile image mode=RGB size=27x27>,\n",
              " <PIL.PngImagePlugin.PngImageFile image mode=RGB size=27x27>,\n",
              " <PIL.PngImagePlugin.PngImageFile image mode=RGB size=27x27>,\n",
              " <PIL.PngImagePlugin.PngImageFile image mode=RGB size=27x27>,\n",
              " <PIL.PngImagePlugin.PngImageFile image mode=RGB size=27x27>,\n",
              " <PIL.PngImagePlugin.PngImageFile image mode=RGB size=27x27>,\n",
              " <PIL.PngImagePlugin.PngImageFile image mode=RGB size=27x27>,\n",
              " <PIL.PngImagePlugin.PngImageFile image mode=RGB size=27x27>,\n",
              " <PIL.PngImagePlugin.PngImageFile image mode=RGB size=27x27>,\n",
              " <PIL.PngImagePlugin.PngImageFile image mode=RGB size=27x27>,\n",
              " <PIL.PngImagePlugin.PngImageFile image mode=RGB size=27x27>,\n",
              " <PIL.PngImagePlugin.PngImageFile image mode=RGB size=27x27>,\n",
              " <PIL.PngImagePlugin.PngImageFile image mode=RGB size=27x27>,\n",
              " <PIL.PngImagePlugin.PngImageFile image mode=RGB size=27x27>,\n",
              " <PIL.PngImagePlugin.PngImageFile image mode=RGB size=27x27>,\n",
              " <PIL.PngImagePlugin.PngImageFile image mode=RGB size=27x27>,\n",
              " <PIL.PngImagePlugin.PngImageFile image mode=RGB size=27x27>,\n",
              " <PIL.PngImagePlugin.PngImageFile image mode=RGB size=27x27>,\n",
              " <PIL.PngImagePlugin.PngImageFile image mode=RGB size=27x27>,\n",
              " <PIL.PngImagePlugin.PngImageFile image mode=RGB size=27x27>,\n",
              " <PIL.PngImagePlugin.PngImageFile image mode=RGB size=27x27>,\n",
              " <PIL.PngImagePlugin.PngImageFile image mode=RGB size=27x27>,\n",
              " <PIL.PngImagePlugin.PngImageFile image mode=RGB size=27x27>,\n",
              " <PIL.PngImagePlugin.PngImageFile image mode=RGB size=27x27>,\n",
              " <PIL.PngImagePlugin.PngImageFile image mode=RGB size=27x27>,\n",
              " <PIL.PngImagePlugin.PngImageFile image mode=RGB size=27x27>,\n",
              " <PIL.PngImagePlugin.PngImageFile image mode=RGB size=27x27>,\n",
              " <PIL.PngImagePlugin.PngImageFile image mode=RGB size=27x27>,\n",
              " <PIL.PngImagePlugin.PngImageFile image mode=RGB size=27x27>,\n",
              " <PIL.PngImagePlugin.PngImageFile image mode=RGB size=27x27>,\n",
              " <PIL.PngImagePlugin.PngImageFile image mode=RGB size=27x27>,\n",
              " <PIL.PngImagePlugin.PngImageFile image mode=RGB size=27x27>,\n",
              " <PIL.PngImagePlugin.PngImageFile image mode=RGB size=27x27>,\n",
              " <PIL.PngImagePlugin.PngImageFile image mode=RGB size=27x27>,\n",
              " <PIL.PngImagePlugin.PngImageFile image mode=RGB size=27x27>,\n",
              " <PIL.PngImagePlugin.PngImageFile image mode=RGB size=27x27>,\n",
              " <PIL.PngImagePlugin.PngImageFile image mode=RGB size=27x27>,\n",
              " <PIL.PngImagePlugin.PngImageFile image mode=RGB size=27x27>,\n",
              " <PIL.PngImagePlugin.PngImageFile image mode=RGB size=27x27>,\n",
              " <PIL.PngImagePlugin.PngImageFile image mode=RGB size=27x27>,\n",
              " <PIL.PngImagePlugin.PngImageFile image mode=RGB size=27x27>,\n",
              " <PIL.PngImagePlugin.PngImageFile image mode=RGB size=27x27>,\n",
              " <PIL.PngImagePlugin.PngImageFile image mode=RGB size=27x27>,\n",
              " <PIL.PngImagePlugin.PngImageFile image mode=RGB size=27x27>,\n",
              " <PIL.PngImagePlugin.PngImageFile image mode=RGB size=27x27>,\n",
              " <PIL.PngImagePlugin.PngImageFile image mode=RGB size=27x27>,\n",
              " <PIL.PngImagePlugin.PngImageFile image mode=RGB size=27x27>,\n",
              " <PIL.PngImagePlugin.PngImageFile image mode=RGB size=27x27>,\n",
              " <PIL.PngImagePlugin.PngImageFile image mode=RGB size=27x27>,\n",
              " <PIL.PngImagePlugin.PngImageFile image mode=RGB size=27x27>,\n",
              " <PIL.PngImagePlugin.PngImageFile image mode=RGB size=27x27>,\n",
              " <PIL.PngImagePlugin.PngImageFile image mode=RGB size=27x27>,\n",
              " <PIL.PngImagePlugin.PngImageFile image mode=RGB size=27x27>,\n",
              " <PIL.PngImagePlugin.PngImageFile image mode=RGB size=27x27>,\n",
              " <PIL.PngImagePlugin.PngImageFile image mode=RGB size=27x27>,\n",
              " <PIL.PngImagePlugin.PngImageFile image mode=RGB size=27x27>,\n",
              " <PIL.PngImagePlugin.PngImageFile image mode=RGB size=27x27>,\n",
              " <PIL.PngImagePlugin.PngImageFile image mode=RGB size=27x27>,\n",
              " <PIL.PngImagePlugin.PngImageFile image mode=RGB size=27x27>,\n",
              " <PIL.PngImagePlugin.PngImageFile image mode=RGB size=27x27>,\n",
              " <PIL.PngImagePlugin.PngImageFile image mode=RGB size=27x27>,\n",
              " <PIL.PngImagePlugin.PngImageFile image mode=RGB size=27x27>,\n",
              " <PIL.PngImagePlugin.PngImageFile image mode=RGB size=27x27>,\n",
              " <PIL.PngImagePlugin.PngImageFile image mode=RGB size=27x27>,\n",
              " <PIL.PngImagePlugin.PngImageFile image mode=RGB size=27x27>,\n",
              " <PIL.PngImagePlugin.PngImageFile image mode=RGB size=27x27>,\n",
              " <PIL.PngImagePlugin.PngImageFile image mode=RGB size=27x27>,\n",
              " <PIL.PngImagePlugin.PngImageFile image mode=RGB size=27x27>,\n",
              " <PIL.PngImagePlugin.PngImageFile image mode=RGB size=27x27>,\n",
              " <PIL.PngImagePlugin.PngImageFile image mode=RGB size=27x27>,\n",
              " <PIL.PngImagePlugin.PngImageFile image mode=RGB size=27x27>,\n",
              " <PIL.PngImagePlugin.PngImageFile image mode=RGB size=27x27>,\n",
              " <PIL.PngImagePlugin.PngImageFile image mode=RGB size=27x27>,\n",
              " <PIL.PngImagePlugin.PngImageFile image mode=RGB size=27x27>,\n",
              " <PIL.PngImagePlugin.PngImageFile image mode=RGB size=27x27>,\n",
              " <PIL.PngImagePlugin.PngImageFile image mode=RGB size=27x27>,\n",
              " <PIL.PngImagePlugin.PngImageFile image mode=RGB size=27x27>,\n",
              " <PIL.PngImagePlugin.PngImageFile image mode=RGB size=27x27>,\n",
              " <PIL.PngImagePlugin.PngImageFile image mode=RGB size=27x27>,\n",
              " <PIL.PngImagePlugin.PngImageFile image mode=RGB size=27x27>,\n",
              " <PIL.PngImagePlugin.PngImageFile image mode=RGB size=27x27>,\n",
              " <PIL.PngImagePlugin.PngImageFile image mode=RGB size=27x27>,\n",
              " <PIL.PngImagePlugin.PngImageFile image mode=RGB size=27x27>,\n",
              " <PIL.PngImagePlugin.PngImageFile image mode=RGB size=27x27>,\n",
              " <PIL.PngImagePlugin.PngImageFile image mode=RGB size=27x27>,\n",
              " <PIL.PngImagePlugin.PngImageFile image mode=RGB size=27x27>,\n",
              " <PIL.PngImagePlugin.PngImageFile image mode=RGB size=27x27>,\n",
              " <PIL.PngImagePlugin.PngImageFile image mode=RGB size=27x27>,\n",
              " <PIL.PngImagePlugin.PngImageFile image mode=RGB size=27x27>,\n",
              " <PIL.PngImagePlugin.PngImageFile image mode=RGB size=27x27>,\n",
              " <PIL.PngImagePlugin.PngImageFile image mode=RGB size=27x27>,\n",
              " <PIL.PngImagePlugin.PngImageFile image mode=RGB size=27x27>,\n",
              " <PIL.PngImagePlugin.PngImageFile image mode=RGB size=27x27>,\n",
              " <PIL.PngImagePlugin.PngImageFile image mode=RGB size=27x27>,\n",
              " <PIL.PngImagePlugin.PngImageFile image mode=RGB size=27x27>,\n",
              " <PIL.PngImagePlugin.PngImageFile image mode=RGB size=27x27>,\n",
              " <PIL.PngImagePlugin.PngImageFile image mode=RGB size=27x27>,\n",
              " <PIL.PngImagePlugin.PngImageFile image mode=RGB size=27x27>,\n",
              " <PIL.PngImagePlugin.PngImageFile image mode=RGB size=27x27>,\n",
              " <PIL.PngImagePlugin.PngImageFile image mode=RGB size=27x27>,\n",
              " <PIL.PngImagePlugin.PngImageFile image mode=RGB size=27x27>,\n",
              " <PIL.PngImagePlugin.PngImageFile image mode=RGB size=27x27>,\n",
              " <PIL.PngImagePlugin.PngImageFile image mode=RGB size=27x27>,\n",
              " <PIL.PngImagePlugin.PngImageFile image mode=RGB size=27x27>,\n",
              " <PIL.PngImagePlugin.PngImageFile image mode=RGB size=27x27>,\n",
              " <PIL.PngImagePlugin.PngImageFile image mode=RGB size=27x27>,\n",
              " <PIL.PngImagePlugin.PngImageFile image mode=RGB size=27x27>,\n",
              " <PIL.PngImagePlugin.PngImageFile image mode=RGB size=27x27>,\n",
              " <PIL.PngImagePlugin.PngImageFile image mode=RGB size=27x27>,\n",
              " <PIL.PngImagePlugin.PngImageFile image mode=RGB size=27x27>,\n",
              " <PIL.PngImagePlugin.PngImageFile image mode=RGB size=27x27>,\n",
              " <PIL.PngImagePlugin.PngImageFile image mode=RGB size=27x27>,\n",
              " <PIL.PngImagePlugin.PngImageFile image mode=RGB size=27x27>,\n",
              " <PIL.PngImagePlugin.PngImageFile image mode=RGB size=27x27>,\n",
              " <PIL.PngImagePlugin.PngImageFile image mode=RGB size=27x27>,\n",
              " <PIL.PngImagePlugin.PngImageFile image mode=RGB size=27x27>,\n",
              " <PIL.PngImagePlugin.PngImageFile image mode=RGB size=27x27>,\n",
              " <PIL.PngImagePlugin.PngImageFile image mode=RGB size=27x27>,\n",
              " <PIL.PngImagePlugin.PngImageFile image mode=RGB size=27x27>,\n",
              " <PIL.PngImagePlugin.PngImageFile image mode=RGB size=27x27>,\n",
              " <PIL.PngImagePlugin.PngImageFile image mode=RGB size=27x27>,\n",
              " <PIL.PngImagePlugin.PngImageFile image mode=RGB size=27x27>,\n",
              " <PIL.PngImagePlugin.PngImageFile image mode=RGB size=27x27>,\n",
              " <PIL.PngImagePlugin.PngImageFile image mode=RGB size=27x27>,\n",
              " <PIL.PngImagePlugin.PngImageFile image mode=RGB size=27x27>,\n",
              " <PIL.PngImagePlugin.PngImageFile image mode=RGB size=27x27>,\n",
              " <PIL.PngImagePlugin.PngImageFile image mode=RGB size=27x27>,\n",
              " <PIL.PngImagePlugin.PngImageFile image mode=RGB size=27x27>,\n",
              " <PIL.PngImagePlugin.PngImageFile image mode=RGB size=27x27>,\n",
              " <PIL.PngImagePlugin.PngImageFile image mode=RGB size=27x27>,\n",
              " <PIL.PngImagePlugin.PngImageFile image mode=RGB size=27x27>,\n",
              " <PIL.PngImagePlugin.PngImageFile image mode=RGB size=27x27>,\n",
              " <PIL.PngImagePlugin.PngImageFile image mode=RGB size=27x27>,\n",
              " <PIL.PngImagePlugin.PngImageFile image mode=RGB size=27x27>,\n",
              " <PIL.PngImagePlugin.PngImageFile image mode=RGB size=27x27>,\n",
              " <PIL.PngImagePlugin.PngImageFile image mode=RGB size=27x27>,\n",
              " <PIL.PngImagePlugin.PngImageFile image mode=RGB size=27x27>,\n",
              " <PIL.PngImagePlugin.PngImageFile image mode=RGB size=27x27>,\n",
              " <PIL.PngImagePlugin.PngImageFile image mode=RGB size=27x27>,\n",
              " <PIL.PngImagePlugin.PngImageFile image mode=RGB size=27x27>,\n",
              " <PIL.PngImagePlugin.PngImageFile image mode=RGB size=27x27>,\n",
              " <PIL.PngImagePlugin.PngImageFile image mode=RGB size=27x27>,\n",
              " <PIL.PngImagePlugin.PngImageFile image mode=RGB size=27x27>,\n",
              " <PIL.PngImagePlugin.PngImageFile image mode=RGB size=27x27>,\n",
              " <PIL.PngImagePlugin.PngImageFile image mode=RGB size=27x27>,\n",
              " <PIL.PngImagePlugin.PngImageFile image mode=RGB size=27x27>,\n",
              " <PIL.PngImagePlugin.PngImageFile image mode=RGB size=27x27>,\n",
              " <PIL.PngImagePlugin.PngImageFile image mode=RGB size=27x27>,\n",
              " <PIL.PngImagePlugin.PngImageFile image mode=RGB size=27x27>,\n",
              " <PIL.PngImagePlugin.PngImageFile image mode=RGB size=27x27>,\n",
              " <PIL.PngImagePlugin.PngImageFile image mode=RGB size=27x27>,\n",
              " <PIL.PngImagePlugin.PngImageFile image mode=RGB size=27x27>,\n",
              " <PIL.PngImagePlugin.PngImageFile image mode=RGB size=27x27>,\n",
              " <PIL.PngImagePlugin.PngImageFile image mode=RGB size=27x27>,\n",
              " <PIL.PngImagePlugin.PngImageFile image mode=RGB size=27x27>,\n",
              " <PIL.PngImagePlugin.PngImageFile image mode=RGB size=27x27>,\n",
              " <PIL.PngImagePlugin.PngImageFile image mode=RGB size=27x27>,\n",
              " <PIL.PngImagePlugin.PngImageFile image mode=RGB size=27x27>,\n",
              " <PIL.PngImagePlugin.PngImageFile image mode=RGB size=27x27>,\n",
              " <PIL.PngImagePlugin.PngImageFile image mode=RGB size=27x27>,\n",
              " <PIL.PngImagePlugin.PngImageFile image mode=RGB size=27x27>,\n",
              " <PIL.PngImagePlugin.PngImageFile image mode=RGB size=27x27>,\n",
              " <PIL.PngImagePlugin.PngImageFile image mode=RGB size=27x27>,\n",
              " <PIL.PngImagePlugin.PngImageFile image mode=RGB size=27x27>,\n",
              " <PIL.PngImagePlugin.PngImageFile image mode=RGB size=27x27>,\n",
              " <PIL.PngImagePlugin.PngImageFile image mode=RGB size=27x27>,\n",
              " <PIL.PngImagePlugin.PngImageFile image mode=RGB size=27x27>,\n",
              " <PIL.PngImagePlugin.PngImageFile image mode=RGB size=27x27>,\n",
              " <PIL.PngImagePlugin.PngImageFile image mode=RGB size=27x27>,\n",
              " <PIL.PngImagePlugin.PngImageFile image mode=RGB size=27x27>,\n",
              " <PIL.PngImagePlugin.PngImageFile image mode=RGB size=27x27>,\n",
              " <PIL.PngImagePlugin.PngImageFile image mode=RGB size=27x27>,\n",
              " <PIL.PngImagePlugin.PngImageFile image mode=RGB size=27x27>,\n",
              " <PIL.PngImagePlugin.PngImageFile image mode=RGB size=27x27>,\n",
              " <PIL.PngImagePlugin.PngImageFile image mode=RGB size=27x27>,\n",
              " <PIL.PngImagePlugin.PngImageFile image mode=RGB size=27x27>,\n",
              " <PIL.PngImagePlugin.PngImageFile image mode=RGB size=27x27>,\n",
              " <PIL.PngImagePlugin.PngImageFile image mode=RGB size=27x27>,\n",
              " <PIL.PngImagePlugin.PngImageFile image mode=RGB size=27x27>,\n",
              " <PIL.PngImagePlugin.PngImageFile image mode=RGB size=27x27>,\n",
              " <PIL.PngImagePlugin.PngImageFile image mode=RGB size=27x27>,\n",
              " <PIL.PngImagePlugin.PngImageFile image mode=RGB size=27x27>,\n",
              " <PIL.PngImagePlugin.PngImageFile image mode=RGB size=27x27>,\n",
              " <PIL.PngImagePlugin.PngImageFile image mode=RGB size=27x27>,\n",
              " <PIL.PngImagePlugin.PngImageFile image mode=RGB size=27x27>,\n",
              " <PIL.PngImagePlugin.PngImageFile image mode=RGB size=27x27>,\n",
              " <PIL.PngImagePlugin.PngImageFile image mode=RGB size=27x27>,\n",
              " <PIL.PngImagePlugin.PngImageFile image mode=RGB size=27x27>,\n",
              " <PIL.PngImagePlugin.PngImageFile image mode=RGB size=27x27>,\n",
              " <PIL.PngImagePlugin.PngImageFile image mode=RGB size=27x27>,\n",
              " <PIL.PngImagePlugin.PngImageFile image mode=RGB size=27x27>,\n",
              " <PIL.PngImagePlugin.PngImageFile image mode=RGB size=27x27>,\n",
              " <PIL.PngImagePlugin.PngImageFile image mode=RGB size=27x27>,\n",
              " <PIL.PngImagePlugin.PngImageFile image mode=RGB size=27x27>,\n",
              " <PIL.PngImagePlugin.PngImageFile image mode=RGB size=27x27>,\n",
              " <PIL.PngImagePlugin.PngImageFile image mode=RGB size=27x27>,\n",
              " <PIL.PngImagePlugin.PngImageFile image mode=RGB size=27x27>,\n",
              " <PIL.PngImagePlugin.PngImageFile image mode=RGB size=27x27>,\n",
              " <PIL.PngImagePlugin.PngImageFile image mode=RGB size=27x27>,\n",
              " <PIL.PngImagePlugin.PngImageFile image mode=RGB size=27x27>,\n",
              " <PIL.PngImagePlugin.PngImageFile image mode=RGB size=27x27>,\n",
              " <PIL.PngImagePlugin.PngImageFile image mode=RGB size=27x27>,\n",
              " <PIL.PngImagePlugin.PngImageFile image mode=RGB size=27x27>,\n",
              " <PIL.PngImagePlugin.PngImageFile image mode=RGB size=27x27>,\n",
              " <PIL.PngImagePlugin.PngImageFile image mode=RGB size=27x27>,\n",
              " <PIL.PngImagePlugin.PngImageFile image mode=RGB size=27x27>,\n",
              " <PIL.PngImagePlugin.PngImageFile image mode=RGB size=27x27>,\n",
              " <PIL.PngImagePlugin.PngImageFile image mode=RGB size=27x27>,\n",
              " <PIL.PngImagePlugin.PngImageFile image mode=RGB size=27x27>,\n",
              " <PIL.PngImagePlugin.PngImageFile image mode=RGB size=27x27>,\n",
              " <PIL.PngImagePlugin.PngImageFile image mode=RGB size=27x27>,\n",
              " <PIL.PngImagePlugin.PngImageFile image mode=RGB size=27x27>,\n",
              " <PIL.PngImagePlugin.PngImageFile image mode=RGB size=27x27>,\n",
              " <PIL.PngImagePlugin.PngImageFile image mode=RGB size=27x27>,\n",
              " <PIL.PngImagePlugin.PngImageFile image mode=RGB size=27x27>,\n",
              " <PIL.PngImagePlugin.PngImageFile image mode=RGB size=27x27>,\n",
              " <PIL.PngImagePlugin.PngImageFile image mode=RGB size=27x27>,\n",
              " <PIL.PngImagePlugin.PngImageFile image mode=RGB size=27x27>,\n",
              " <PIL.PngImagePlugin.PngImageFile image mode=RGB size=27x27>,\n",
              " <PIL.PngImagePlugin.PngImageFile image mode=RGB size=27x27>,\n",
              " <PIL.PngImagePlugin.PngImageFile image mode=RGB size=27x27>,\n",
              " <PIL.PngImagePlugin.PngImageFile image mode=RGB size=27x27>,\n",
              " <PIL.PngImagePlugin.PngImageFile image mode=RGB size=27x27>,\n",
              " <PIL.PngImagePlugin.PngImageFile image mode=RGB size=27x27>,\n",
              " <PIL.PngImagePlugin.PngImageFile image mode=RGB size=27x27>,\n",
              " <PIL.PngImagePlugin.PngImageFile image mode=RGB size=27x27>,\n",
              " <PIL.PngImagePlugin.PngImageFile image mode=RGB size=27x27>,\n",
              " <PIL.PngImagePlugin.PngImageFile image mode=RGB size=27x27>,\n",
              " <PIL.PngImagePlugin.PngImageFile image mode=RGB size=27x27>,\n",
              " <PIL.PngImagePlugin.PngImageFile image mode=RGB size=27x27>,\n",
              " <PIL.PngImagePlugin.PngImageFile image mode=RGB size=27x27>,\n",
              " <PIL.PngImagePlugin.PngImageFile image mode=RGB size=27x27>,\n",
              " <PIL.PngImagePlugin.PngImageFile image mode=RGB size=27x27>,\n",
              " <PIL.PngImagePlugin.PngImageFile image mode=RGB size=27x27>,\n",
              " <PIL.PngImagePlugin.PngImageFile image mode=RGB size=27x27>,\n",
              " <PIL.PngImagePlugin.PngImageFile image mode=RGB size=27x27>,\n",
              " <PIL.PngImagePlugin.PngImageFile image mode=RGB size=27x27>,\n",
              " <PIL.PngImagePlugin.PngImageFile image mode=RGB size=27x27>,\n",
              " <PIL.PngImagePlugin.PngImageFile image mode=RGB size=27x27>,\n",
              " <PIL.PngImagePlugin.PngImageFile image mode=RGB size=27x27>,\n",
              " <PIL.PngImagePlugin.PngImageFile image mode=RGB size=27x27>,\n",
              " <PIL.PngImagePlugin.PngImageFile image mode=RGB size=27x27>,\n",
              " <PIL.PngImagePlugin.PngImageFile image mode=RGB size=27x27>,\n",
              " <PIL.PngImagePlugin.PngImageFile image mode=RGB size=27x27>,\n",
              " <PIL.PngImagePlugin.PngImageFile image mode=RGB size=27x27>,\n",
              " <PIL.PngImagePlugin.PngImageFile image mode=RGB size=27x27>,\n",
              " <PIL.PngImagePlugin.PngImageFile image mode=RGB size=27x27>,\n",
              " <PIL.PngImagePlugin.PngImageFile image mode=RGB size=27x27>,\n",
              " <PIL.PngImagePlugin.PngImageFile image mode=RGB size=27x27>,\n",
              " <PIL.PngImagePlugin.PngImageFile image mode=RGB size=27x27>,\n",
              " <PIL.PngImagePlugin.PngImageFile image mode=RGB size=27x27>,\n",
              " <PIL.PngImagePlugin.PngImageFile image mode=RGB size=27x27>,\n",
              " <PIL.PngImagePlugin.PngImageFile image mode=RGB size=27x27>,\n",
              " <PIL.PngImagePlugin.PngImageFile image mode=RGB size=27x27>,\n",
              " <PIL.PngImagePlugin.PngImageFile image mode=RGB size=27x27>,\n",
              " <PIL.PngImagePlugin.PngImageFile image mode=RGB size=27x27>,\n",
              " <PIL.PngImagePlugin.PngImageFile image mode=RGB size=27x27>,\n",
              " <PIL.PngImagePlugin.PngImageFile image mode=RGB size=27x27>,\n",
              " <PIL.PngImagePlugin.PngImageFile image mode=RGB size=27x27>,\n",
              " <PIL.PngImagePlugin.PngImageFile image mode=RGB size=27x27>,\n",
              " <PIL.PngImagePlugin.PngImageFile image mode=RGB size=27x27>,\n",
              " <PIL.PngImagePlugin.PngImageFile image mode=RGB size=27x27>,\n",
              " <PIL.PngImagePlugin.PngImageFile image mode=RGB size=27x27>,\n",
              " <PIL.PngImagePlugin.PngImageFile image mode=RGB size=27x27>,\n",
              " <PIL.PngImagePlugin.PngImageFile image mode=RGB size=27x27>,\n",
              " <PIL.PngImagePlugin.PngImageFile image mode=RGB size=27x27>,\n",
              " <PIL.PngImagePlugin.PngImageFile image mode=RGB size=27x27>,\n",
              " <PIL.PngImagePlugin.PngImageFile image mode=RGB size=27x27>,\n",
              " <PIL.PngImagePlugin.PngImageFile image mode=RGB size=27x27>,\n",
              " <PIL.PngImagePlugin.PngImageFile image mode=RGB size=27x27>,\n",
              " <PIL.PngImagePlugin.PngImageFile image mode=RGB size=27x27>,\n",
              " <PIL.PngImagePlugin.PngImageFile image mode=RGB size=27x27>,\n",
              " <PIL.PngImagePlugin.PngImageFile image mode=RGB size=27x27>,\n",
              " <PIL.PngImagePlugin.PngImageFile image mode=RGB size=27x27>,\n",
              " <PIL.PngImagePlugin.PngImageFile image mode=RGB size=27x27>,\n",
              " <PIL.PngImagePlugin.PngImageFile image mode=RGB size=27x27>,\n",
              " <PIL.PngImagePlugin.PngImageFile image mode=RGB size=27x27>,\n",
              " <PIL.PngImagePlugin.PngImageFile image mode=RGB size=27x27>,\n",
              " <PIL.PngImagePlugin.PngImageFile image mode=RGB size=27x27>,\n",
              " <PIL.PngImagePlugin.PngImageFile image mode=RGB size=27x27>,\n",
              " <PIL.PngImagePlugin.PngImageFile image mode=RGB size=27x27>,\n",
              " <PIL.PngImagePlugin.PngImageFile image mode=RGB size=27x27>,\n",
              " <PIL.PngImagePlugin.PngImageFile image mode=RGB size=27x27>,\n",
              " <PIL.PngImagePlugin.PngImageFile image mode=RGB size=27x27>,\n",
              " <PIL.PngImagePlugin.PngImageFile image mode=RGB size=27x27>,\n",
              " <PIL.PngImagePlugin.PngImageFile image mode=RGB size=27x27>,\n",
              " <PIL.PngImagePlugin.PngImageFile image mode=RGB size=27x27>,\n",
              " <PIL.PngImagePlugin.PngImageFile image mode=RGB size=27x27>,\n",
              " <PIL.PngImagePlugin.PngImageFile image mode=RGB size=27x27>,\n",
              " <PIL.PngImagePlugin.PngImageFile image mode=RGB size=27x27>,\n",
              " <PIL.PngImagePlugin.PngImageFile image mode=RGB size=27x27>,\n",
              " <PIL.PngImagePlugin.PngImageFile image mode=RGB size=27x27>,\n",
              " <PIL.PngImagePlugin.PngImageFile image mode=RGB size=27x27>,\n",
              " <PIL.PngImagePlugin.PngImageFile image mode=RGB size=27x27>,\n",
              " <PIL.PngImagePlugin.PngImageFile image mode=RGB size=27x27>,\n",
              " <PIL.PngImagePlugin.PngImageFile image mode=RGB size=27x27>,\n",
              " <PIL.PngImagePlugin.PngImageFile image mode=RGB size=27x27>,\n",
              " <PIL.PngImagePlugin.PngImageFile image mode=RGB size=27x27>,\n",
              " <PIL.PngImagePlugin.PngImageFile image mode=RGB size=27x27>,\n",
              " <PIL.PngImagePlugin.PngImageFile image mode=RGB size=27x27>,\n",
              " <PIL.PngImagePlugin.PngImageFile image mode=RGB size=27x27>,\n",
              " <PIL.PngImagePlugin.PngImageFile image mode=RGB size=27x27>,\n",
              " <PIL.PngImagePlugin.PngImageFile image mode=RGB size=27x27>,\n",
              " <PIL.PngImagePlugin.PngImageFile image mode=RGB size=27x27>,\n",
              " <PIL.PngImagePlugin.PngImageFile image mode=RGB size=27x27>,\n",
              " <PIL.PngImagePlugin.PngImageFile image mode=RGB size=27x27>,\n",
              " <PIL.PngImagePlugin.PngImageFile image mode=RGB size=27x27>,\n",
              " <PIL.PngImagePlugin.PngImageFile image mode=RGB size=27x27>,\n",
              " <PIL.PngImagePlugin.PngImageFile image mode=RGB size=27x27>,\n",
              " <PIL.PngImagePlugin.PngImageFile image mode=RGB size=27x27>,\n",
              " <PIL.PngImagePlugin.PngImageFile image mode=RGB size=27x27>,\n",
              " <PIL.PngImagePlugin.PngImageFile image mode=RGB size=27x27>,\n",
              " <PIL.PngImagePlugin.PngImageFile image mode=RGB size=27x27>,\n",
              " <PIL.PngImagePlugin.PngImageFile image mode=RGB size=27x27>,\n",
              " <PIL.PngImagePlugin.PngImageFile image mode=RGB size=27x27>,\n",
              " <PIL.PngImagePlugin.PngImageFile image mode=RGB size=27x27>,\n",
              " <PIL.PngImagePlugin.PngImageFile image mode=RGB size=27x27>,\n",
              " <PIL.PngImagePlugin.PngImageFile image mode=RGB size=27x27>,\n",
              " <PIL.PngImagePlugin.PngImageFile image mode=RGB size=27x27>,\n",
              " <PIL.PngImagePlugin.PngImageFile image mode=RGB size=27x27>,\n",
              " <PIL.PngImagePlugin.PngImageFile image mode=RGB size=27x27>,\n",
              " <PIL.PngImagePlugin.PngImageFile image mode=RGB size=27x27>,\n",
              " <PIL.PngImagePlugin.PngImageFile image mode=RGB size=27x27>,\n",
              " <PIL.PngImagePlugin.PngImageFile image mode=RGB size=27x27>,\n",
              " <PIL.PngImagePlugin.PngImageFile image mode=RGB size=27x27>,\n",
              " <PIL.PngImagePlugin.PngImageFile image mode=RGB size=27x27>,\n",
              " <PIL.PngImagePlugin.PngImageFile image mode=RGB size=27x27>,\n",
              " <PIL.PngImagePlugin.PngImageFile image mode=RGB size=27x27>,\n",
              " <PIL.PngImagePlugin.PngImageFile image mode=RGB size=27x27>,\n",
              " <PIL.PngImagePlugin.PngImageFile image mode=RGB size=27x27>,\n",
              " <PIL.PngImagePlugin.PngImageFile image mode=RGB size=27x27>,\n",
              " <PIL.PngImagePlugin.PngImageFile image mode=RGB size=27x27>,\n",
              " <PIL.PngImagePlugin.PngImageFile image mode=RGB size=27x27>,\n",
              " <PIL.PngImagePlugin.PngImageFile image mode=RGB size=27x27>,\n",
              " <PIL.PngImagePlugin.PngImageFile image mode=RGB size=27x27>,\n",
              " <PIL.PngImagePlugin.PngImageFile image mode=RGB size=27x27>,\n",
              " <PIL.PngImagePlugin.PngImageFile image mode=RGB size=27x27>,\n",
              " <PIL.PngImagePlugin.PngImageFile image mode=RGB size=27x27>,\n",
              " <PIL.PngImagePlugin.PngImageFile image mode=RGB size=27x27>,\n",
              " <PIL.PngImagePlugin.PngImageFile image mode=RGB size=27x27>,\n",
              " <PIL.PngImagePlugin.PngImageFile image mode=RGB size=27x27>,\n",
              " <PIL.PngImagePlugin.PngImageFile image mode=RGB size=27x27>,\n",
              " <PIL.PngImagePlugin.PngImageFile image mode=RGB size=27x27>,\n",
              " <PIL.PngImagePlugin.PngImageFile image mode=RGB size=27x27>,\n",
              " <PIL.PngImagePlugin.PngImageFile image mode=RGB size=27x27>,\n",
              " <PIL.PngImagePlugin.PngImageFile image mode=RGB size=27x27>,\n",
              " <PIL.PngImagePlugin.PngImageFile image mode=RGB size=27x27>,\n",
              " <PIL.PngImagePlugin.PngImageFile image mode=RGB size=27x27>,\n",
              " <PIL.PngImagePlugin.PngImageFile image mode=RGB size=27x27>,\n",
              " <PIL.PngImagePlugin.PngImageFile image mode=RGB size=27x27>,\n",
              " <PIL.PngImagePlugin.PngImageFile image mode=RGB size=27x27>,\n",
              " <PIL.PngImagePlugin.PngImageFile image mode=RGB size=27x27>,\n",
              " <PIL.PngImagePlugin.PngImageFile image mode=RGB size=27x27>,\n",
              " <PIL.PngImagePlugin.PngImageFile image mode=RGB size=27x27>,\n",
              " <PIL.PngImagePlugin.PngImageFile image mode=RGB size=27x27>,\n",
              " <PIL.PngImagePlugin.PngImageFile image mode=RGB size=27x27>,\n",
              " <PIL.PngImagePlugin.PngImageFile image mode=RGB size=27x27>,\n",
              " <PIL.PngImagePlugin.PngImageFile image mode=RGB size=27x27>,\n",
              " <PIL.PngImagePlugin.PngImageFile image mode=RGB size=27x27>,\n",
              " <PIL.PngImagePlugin.PngImageFile image mode=RGB size=27x27>,\n",
              " <PIL.PngImagePlugin.PngImageFile image mode=RGB size=27x27>,\n",
              " <PIL.PngImagePlugin.PngImageFile image mode=RGB size=27x27>,\n",
              " <PIL.PngImagePlugin.PngImageFile image mode=RGB size=27x27>,\n",
              " <PIL.PngImagePlugin.PngImageFile image mode=RGB size=27x27>,\n",
              " <PIL.PngImagePlugin.PngImageFile image mode=RGB size=27x27>,\n",
              " <PIL.PngImagePlugin.PngImageFile image mode=RGB size=27x27>,\n",
              " <PIL.PngImagePlugin.PngImageFile image mode=RGB size=27x27>,\n",
              " <PIL.PngImagePlugin.PngImageFile image mode=RGB size=27x27>,\n",
              " <PIL.PngImagePlugin.PngImageFile image mode=RGB size=27x27>,\n",
              " <PIL.PngImagePlugin.PngImageFile image mode=RGB size=27x27>,\n",
              " <PIL.PngImagePlugin.PngImageFile image mode=RGB size=27x27>,\n",
              " <PIL.PngImagePlugin.PngImageFile image mode=RGB size=27x27>,\n",
              " <PIL.PngImagePlugin.PngImageFile image mode=RGB size=27x27>,\n",
              " <PIL.PngImagePlugin.PngImageFile image mode=RGB size=27x27>,\n",
              " <PIL.PngImagePlugin.PngImageFile image mode=RGB size=27x27>,\n",
              " <PIL.PngImagePlugin.PngImageFile image mode=RGB size=27x27>,\n",
              " <PIL.PngImagePlugin.PngImageFile image mode=RGB size=27x27>,\n",
              " <PIL.PngImagePlugin.PngImageFile image mode=RGB size=27x27>,\n",
              " <PIL.PngImagePlugin.PngImageFile image mode=RGB size=27x27>,\n",
              " <PIL.PngImagePlugin.PngImageFile image mode=RGB size=27x27>,\n",
              " <PIL.PngImagePlugin.PngImageFile image mode=RGB size=27x27>,\n",
              " <PIL.PngImagePlugin.PngImageFile image mode=RGB size=27x27>,\n",
              " <PIL.PngImagePlugin.PngImageFile image mode=RGB size=27x27>,\n",
              " <PIL.PngImagePlugin.PngImageFile image mode=RGB size=27x27>,\n",
              " <PIL.PngImagePlugin.PngImageFile image mode=RGB size=27x27>,\n",
              " <PIL.PngImagePlugin.PngImageFile image mode=RGB size=27x27>,\n",
              " <PIL.PngImagePlugin.PngImageFile image mode=RGB size=27x27>,\n",
              " <PIL.PngImagePlugin.PngImageFile image mode=RGB size=27x27>,\n",
              " <PIL.PngImagePlugin.PngImageFile image mode=RGB size=27x27>,\n",
              " <PIL.PngImagePlugin.PngImageFile image mode=RGB size=27x27>,\n",
              " <PIL.PngImagePlugin.PngImageFile image mode=RGB size=27x27>,\n",
              " <PIL.PngImagePlugin.PngImageFile image mode=RGB size=27x27>,\n",
              " <PIL.PngImagePlugin.PngImageFile image mode=RGB size=27x27>,\n",
              " <PIL.PngImagePlugin.PngImageFile image mode=RGB size=27x27>,\n",
              " <PIL.PngImagePlugin.PngImageFile image mode=RGB size=27x27>,\n",
              " <PIL.PngImagePlugin.PngImageFile image mode=RGB size=27x27>,\n",
              " <PIL.PngImagePlugin.PngImageFile image mode=RGB size=27x27>,\n",
              " <PIL.PngImagePlugin.PngImageFile image mode=RGB size=27x27>,\n",
              " <PIL.PngImagePlugin.PngImageFile image mode=RGB size=27x27>,\n",
              " <PIL.PngImagePlugin.PngImageFile image mode=RGB size=27x27>,\n",
              " <PIL.PngImagePlugin.PngImageFile image mode=RGB size=27x27>,\n",
              " <PIL.PngImagePlugin.PngImageFile image mode=RGB size=27x27>,\n",
              " <PIL.PngImagePlugin.PngImageFile image mode=RGB size=27x27>,\n",
              " <PIL.PngImagePlugin.PngImageFile image mode=RGB size=27x27>,\n",
              " <PIL.PngImagePlugin.PngImageFile image mode=RGB size=27x27>,\n",
              " <PIL.PngImagePlugin.PngImageFile image mode=RGB size=27x27>,\n",
              " <PIL.PngImagePlugin.PngImageFile image mode=RGB size=27x27>,\n",
              " <PIL.PngImagePlugin.PngImageFile image mode=RGB size=27x27>,\n",
              " <PIL.PngImagePlugin.PngImageFile image mode=RGB size=27x27>,\n",
              " <PIL.PngImagePlugin.PngImageFile image mode=RGB size=27x27>,\n",
              " <PIL.PngImagePlugin.PngImageFile image mode=RGB size=27x27>,\n",
              " <PIL.PngImagePlugin.PngImageFile image mode=RGB size=27x27>,\n",
              " <PIL.PngImagePlugin.PngImageFile image mode=RGB size=27x27>,\n",
              " <PIL.PngImagePlugin.PngImageFile image mode=RGB size=27x27>,\n",
              " <PIL.PngImagePlugin.PngImageFile image mode=RGB size=27x27>,\n",
              " <PIL.PngImagePlugin.PngImageFile image mode=RGB size=27x27>,\n",
              " <PIL.PngImagePlugin.PngImageFile image mode=RGB size=27x27>,\n",
              " <PIL.PngImagePlugin.PngImageFile image mode=RGB size=27x27>,\n",
              " <PIL.PngImagePlugin.PngImageFile image mode=RGB size=27x27>,\n",
              " <PIL.PngImagePlugin.PngImageFile image mode=RGB size=27x27>,\n",
              " <PIL.PngImagePlugin.PngImageFile image mode=RGB size=27x27>,\n",
              " <PIL.PngImagePlugin.PngImageFile image mode=RGB size=27x27>,\n",
              " <PIL.PngImagePlugin.PngImageFile image mode=RGB size=27x27>,\n",
              " <PIL.PngImagePlugin.PngImageFile image mode=RGB size=27x27>,\n",
              " <PIL.PngImagePlugin.PngImageFile image mode=RGB size=27x27>,\n",
              " <PIL.PngImagePlugin.PngImageFile image mode=RGB size=27x27>,\n",
              " <PIL.PngImagePlugin.PngImageFile image mode=RGB size=27x27>,\n",
              " <PIL.PngImagePlugin.PngImageFile image mode=RGB size=27x27>,\n",
              " <PIL.PngImagePlugin.PngImageFile image mode=RGB size=27x27>,\n",
              " <PIL.PngImagePlugin.PngImageFile image mode=RGB size=27x27>,\n",
              " <PIL.PngImagePlugin.PngImageFile image mode=RGB size=27x27>,\n",
              " <PIL.PngImagePlugin.PngImageFile image mode=RGB size=27x27>,\n",
              " <PIL.PngImagePlugin.PngImageFile image mode=RGB size=27x27>,\n",
              " <PIL.PngImagePlugin.PngImageFile image mode=RGB size=27x27>,\n",
              " <PIL.PngImagePlugin.PngImageFile image mode=RGB size=27x27>,\n",
              " <PIL.PngImagePlugin.PngImageFile image mode=RGB size=27x27>,\n",
              " <PIL.PngImagePlugin.PngImageFile image mode=RGB size=27x27>,\n",
              " <PIL.PngImagePlugin.PngImageFile image mode=RGB size=27x27>,\n",
              " <PIL.PngImagePlugin.PngImageFile image mode=RGB size=27x27>,\n",
              " <PIL.PngImagePlugin.PngImageFile image mode=RGB size=27x27>,\n",
              " <PIL.PngImagePlugin.PngImageFile image mode=RGB size=27x27>,\n",
              " <PIL.PngImagePlugin.PngImageFile image mode=RGB size=27x27>,\n",
              " <PIL.PngImagePlugin.PngImageFile image mode=RGB size=27x27>,\n",
              " <PIL.PngImagePlugin.PngImageFile image mode=RGB size=27x27>,\n",
              " <PIL.PngImagePlugin.PngImageFile image mode=RGB size=27x27>,\n",
              " <PIL.PngImagePlugin.PngImageFile image mode=RGB size=27x27>,\n",
              " <PIL.PngImagePlugin.PngImageFile image mode=RGB size=27x27>,\n",
              " <PIL.PngImagePlugin.PngImageFile image mode=RGB size=27x27>,\n",
              " <PIL.PngImagePlugin.PngImageFile image mode=RGB size=27x27>,\n",
              " <PIL.PngImagePlugin.PngImageFile image mode=RGB size=27x27>,\n",
              " <PIL.PngImagePlugin.PngImageFile image mode=RGB size=27x27>,\n",
              " <PIL.PngImagePlugin.PngImageFile image mode=RGB size=27x27>,\n",
              " <PIL.PngImagePlugin.PngImageFile image mode=RGB size=27x27>,\n",
              " <PIL.PngImagePlugin.PngImageFile image mode=RGB size=27x27>,\n",
              " <PIL.PngImagePlugin.PngImageFile image mode=RGB size=27x27>,\n",
              " <PIL.PngImagePlugin.PngImageFile image mode=RGB size=27x27>,\n",
              " <PIL.PngImagePlugin.PngImageFile image mode=RGB size=27x27>,\n",
              " <PIL.PngImagePlugin.PngImageFile image mode=RGB size=27x27>,\n",
              " <PIL.PngImagePlugin.PngImageFile image mode=RGB size=27x27>,\n",
              " <PIL.PngImagePlugin.PngImageFile image mode=RGB size=27x27>,\n",
              " <PIL.PngImagePlugin.PngImageFile image mode=RGB size=27x27>,\n",
              " <PIL.PngImagePlugin.PngImageFile image mode=RGB size=27x27>,\n",
              " <PIL.PngImagePlugin.PngImageFile image mode=RGB size=27x27>,\n",
              " <PIL.PngImagePlugin.PngImageFile image mode=RGB size=27x27>,\n",
              " <PIL.PngImagePlugin.PngImageFile image mode=RGB size=27x27>,\n",
              " <PIL.PngImagePlugin.PngImageFile image mode=RGB size=27x27>,\n",
              " <PIL.PngImagePlugin.PngImageFile image mode=RGB size=27x27>,\n",
              " <PIL.PngImagePlugin.PngImageFile image mode=RGB size=27x27>,\n",
              " <PIL.PngImagePlugin.PngImageFile image mode=RGB size=27x27>,\n",
              " <PIL.PngImagePlugin.PngImageFile image mode=RGB size=27x27>,\n",
              " <PIL.PngImagePlugin.PngImageFile image mode=RGB size=27x27>,\n",
              " <PIL.PngImagePlugin.PngImageFile image mode=RGB size=27x27>,\n",
              " <PIL.PngImagePlugin.PngImageFile image mode=RGB size=27x27>,\n",
              " <PIL.PngImagePlugin.PngImageFile image mode=RGB size=27x27>,\n",
              " <PIL.PngImagePlugin.PngImageFile image mode=RGB size=27x27>,\n",
              " <PIL.PngImagePlugin.PngImageFile image mode=RGB size=27x27>,\n",
              " <PIL.PngImagePlugin.PngImageFile image mode=RGB size=27x27>,\n",
              " <PIL.PngImagePlugin.PngImageFile image mode=RGB size=27x27>,\n",
              " <PIL.PngImagePlugin.PngImageFile image mode=RGB size=27x27>,\n",
              " <PIL.PngImagePlugin.PngImageFile image mode=RGB size=27x27>,\n",
              " <PIL.PngImagePlugin.PngImageFile image mode=RGB size=27x27>,\n",
              " <PIL.PngImagePlugin.PngImageFile image mode=RGB size=27x27>,\n",
              " <PIL.PngImagePlugin.PngImageFile image mode=RGB size=27x27>,\n",
              " <PIL.PngImagePlugin.PngImageFile image mode=RGB size=27x27>,\n",
              " <PIL.PngImagePlugin.PngImageFile image mode=RGB size=27x27>,\n",
              " <PIL.PngImagePlugin.PngImageFile image mode=RGB size=27x27>,\n",
              " <PIL.PngImagePlugin.PngImageFile image mode=RGB size=27x27>,\n",
              " <PIL.PngImagePlugin.PngImageFile image mode=RGB size=27x27>,\n",
              " <PIL.PngImagePlugin.PngImageFile image mode=RGB size=27x27>,\n",
              " <PIL.PngImagePlugin.PngImageFile image mode=RGB size=27x27>,\n",
              " <PIL.PngImagePlugin.PngImageFile image mode=RGB size=27x27>,\n",
              " <PIL.PngImagePlugin.PngImageFile image mode=RGB size=27x27>,\n",
              " <PIL.PngImagePlugin.PngImageFile image mode=RGB size=27x27>,\n",
              " <PIL.PngImagePlugin.PngImageFile image mode=RGB size=27x27>,\n",
              " <PIL.PngImagePlugin.PngImageFile image mode=RGB size=27x27>,\n",
              " <PIL.PngImagePlugin.PngImageFile image mode=RGB size=27x27>,\n",
              " <PIL.PngImagePlugin.PngImageFile image mode=RGB size=27x27>,\n",
              " <PIL.PngImagePlugin.PngImageFile image mode=RGB size=27x27>,\n",
              " <PIL.PngImagePlugin.PngImageFile image mode=RGB size=27x27>,\n",
              " <PIL.PngImagePlugin.PngImageFile image mode=RGB size=27x27>,\n",
              " <PIL.PngImagePlugin.PngImageFile image mode=RGB size=27x27>,\n",
              " <PIL.PngImagePlugin.PngImageFile image mode=RGB size=27x27>,\n",
              " <PIL.PngImagePlugin.PngImageFile image mode=RGB size=27x27>,\n",
              " <PIL.PngImagePlugin.PngImageFile image mode=RGB size=27x27>,\n",
              " <PIL.PngImagePlugin.PngImageFile image mode=RGB size=27x27>,\n",
              " <PIL.PngImagePlugin.PngImageFile image mode=RGB size=27x27>,\n",
              " <PIL.PngImagePlugin.PngImageFile image mode=RGB size=27x27>,\n",
              " <PIL.PngImagePlugin.PngImageFile image mode=RGB size=27x27>,\n",
              " <PIL.PngImagePlugin.PngImageFile image mode=RGB size=27x27>,\n",
              " <PIL.PngImagePlugin.PngImageFile image mode=RGB size=27x27>,\n",
              " <PIL.PngImagePlugin.PngImageFile image mode=RGB size=27x27>,\n",
              " <PIL.PngImagePlugin.PngImageFile image mode=RGB size=27x27>,\n",
              " <PIL.PngImagePlugin.PngImageFile image mode=RGB size=27x27>,\n",
              " <PIL.PngImagePlugin.PngImageFile image mode=RGB size=27x27>,\n",
              " <PIL.PngImagePlugin.PngImageFile image mode=RGB size=27x27>,\n",
              " <PIL.PngImagePlugin.PngImageFile image mode=RGB size=27x27>,\n",
              " <PIL.PngImagePlugin.PngImageFile image mode=RGB size=27x27>,\n",
              " <PIL.PngImagePlugin.PngImageFile image mode=RGB size=27x27>,\n",
              " <PIL.PngImagePlugin.PngImageFile image mode=RGB size=27x27>,\n",
              " <PIL.PngImagePlugin.PngImageFile image mode=RGB size=27x27>,\n",
              " <PIL.PngImagePlugin.PngImageFile image mode=RGB size=27x27>,\n",
              " <PIL.PngImagePlugin.PngImageFile image mode=RGB size=27x27>,\n",
              " <PIL.PngImagePlugin.PngImageFile image mode=RGB size=27x27>,\n",
              " <PIL.PngImagePlugin.PngImageFile image mode=RGB size=27x27>,\n",
              " <PIL.PngImagePlugin.PngImageFile image mode=RGB size=27x27>,\n",
              " <PIL.PngImagePlugin.PngImageFile image mode=RGB size=27x27>,\n",
              " <PIL.PngImagePlugin.PngImageFile image mode=RGB size=27x27>,\n",
              " <PIL.PngImagePlugin.PngImageFile image mode=RGB size=27x27>,\n",
              " <PIL.PngImagePlugin.PngImageFile image mode=RGB size=27x27>,\n",
              " <PIL.PngImagePlugin.PngImageFile image mode=RGB size=27x27>,\n",
              " <PIL.PngImagePlugin.PngImageFile image mode=RGB size=27x27>,\n",
              " <PIL.PngImagePlugin.PngImageFile image mode=RGB size=27x27>,\n",
              " <PIL.PngImagePlugin.PngImageFile image mode=RGB size=27x27>,\n",
              " <PIL.PngImagePlugin.PngImageFile image mode=RGB size=27x27>,\n",
              " <PIL.PngImagePlugin.PngImageFile image mode=RGB size=27x27>,\n",
              " <PIL.PngImagePlugin.PngImageFile image mode=RGB size=27x27>,\n",
              " <PIL.PngImagePlugin.PngImageFile image mode=RGB size=27x27>,\n",
              " <PIL.PngImagePlugin.PngImageFile image mode=RGB size=27x27>,\n",
              " <PIL.PngImagePlugin.PngImageFile image mode=RGB size=27x27>,\n",
              " <PIL.PngImagePlugin.PngImageFile image mode=RGB size=27x27>,\n",
              " <PIL.PngImagePlugin.PngImageFile image mode=RGB size=27x27>,\n",
              " <PIL.PngImagePlugin.PngImageFile image mode=RGB size=27x27>,\n",
              " <PIL.PngImagePlugin.PngImageFile image mode=RGB size=27x27>,\n",
              " <PIL.PngImagePlugin.PngImageFile image mode=RGB size=27x27>,\n",
              " <PIL.PngImagePlugin.PngImageFile image mode=RGB size=27x27>,\n",
              " <PIL.PngImagePlugin.PngImageFile image mode=RGB size=27x27>,\n",
              " <PIL.PngImagePlugin.PngImageFile image mode=RGB size=27x27>,\n",
              " ...]"
            ]
          },
          "execution_count": 12,
          "metadata": {},
          "output_type": "execute_result"
        }
      ],
      "source": [
        "images"
      ]
    },
    {
      "cell_type": "markdown",
      "metadata": {
        "id": "3X3dk2RwBNRJ"
      },
      "source": [
        "pip install --upgrade Pillow"
      ]
    },
    {
      "cell_type": "code",
      "execution_count": null,
      "metadata": {
        "id": "M-wqRubaBNRJ"
      },
      "outputs": [],
      "source": [
        "#Checking for missing values in the dataset"
      ]
    },
    {
      "cell_type": "code",
      "execution_count": null,
      "metadata": {
        "id": "sqVls-i3BNRJ",
        "outputId": "3230c22c-8991-4f16-a537-898f73a09823"
      },
      "outputs": [
        {
          "data": {
            "text/plain": [
              "InstanceID      0\n",
              "patientID       0\n",
              "ImageName       0\n",
              "cellTypeName    0\n",
              "cellType        0\n",
              "isCancerous     0\n",
              "image_path      0\n",
              "dtype: int64"
            ]
          },
          "execution_count": 14,
          "metadata": {},
          "output_type": "execute_result"
        }
      ],
      "source": [
        "data.isnull().sum()"
      ]
    },
    {
      "cell_type": "code",
      "execution_count": null,
      "metadata": {
        "id": "OuXRKLi7BNRJ",
        "outputId": "4b228c1f-28d4-471e-da87-c3dfcd9b31f3"
      },
      "outputs": [
        {
          "data": {
            "text/plain": [
              "epithelial      4079\n",
              "inflammatory    2543\n",
              "fibroblast      1888\n",
              "others          1386\n",
              "Name: cellTypeName, dtype: int64"
            ]
          },
          "execution_count": 15,
          "metadata": {},
          "output_type": "execute_result"
        }
      ],
      "source": [
        "data.cellTypeName.value_counts()"
      ]
    },
    {
      "cell_type": "code",
      "execution_count": null,
      "metadata": {
        "id": "fec3lPMeBNRJ",
        "outputId": "531868af-ae89-4ce0-942d-6ff6b0b5e5ea"
      },
      "outputs": [
        {
          "data": {
            "text/plain": [
              "2    4079\n",
              "1    2543\n",
              "0    1888\n",
              "3    1386\n",
              "Name: cellType, dtype: int64"
            ]
          },
          "execution_count": 16,
          "metadata": {},
          "output_type": "execute_result"
        }
      ],
      "source": [
        "data.cellType.value_counts()"
      ]
    },
    {
      "cell_type": "code",
      "execution_count": null,
      "metadata": {
        "id": "oKY3qo6NBNRJ",
        "outputId": "667376bb-8827-4258-cb4d-34c63d5169b4"
      },
      "outputs": [
        {
          "data": {
            "text/plain": [
              "0    5817\n",
              "1    4079\n",
              "Name: isCancerous, dtype: int64"
            ]
          },
          "execution_count": 17,
          "metadata": {},
          "output_type": "execute_result"
        }
      ],
      "source": [
        "data.isCancerous.value_counts()"
      ]
    },
    {
      "cell_type": "code",
      "execution_count": null,
      "metadata": {
        "id": "CI9Y9AOPBNRJ",
        "outputId": "ac9fbd44-a722-4df8-f3a3-d460ac8765bb"
      },
      "outputs": [
        {
          "data": {
            "text/plain": [
              "<AxesSubplot:>"
            ]
          },
          "execution_count": 18,
          "metadata": {},
          "output_type": "execute_result"
        },
        {
          "data": {
            "image/png": "[encoded data removed]",
            "text/plain": [
              "<Figure size 640x480 with 1 Axes>"
            ]
          },
          "metadata": {},
          "output_type": "display_data"
        }
      ],
      "source": [
        "data.isCancerous.hist()"
      ]
    },
    {
      "cell_type": "code",
      "execution_count": null,
      "metadata": {
        "id": "_79PI6U6BNRJ",
        "outputId": "61e43b79-03dd-43fd-a24a-db0f322f57d0"
      },
      "outputs": [
        {
          "data": {
            "text/plain": [
              "<AxesSubplot:>"
            ]
          },
          "execution_count": 19,
          "metadata": {},
          "output_type": "execute_result"
        },
        {
          "data": {
            "image/png": "[encoded data removed]",
            "text/plain": [
              "<Figure size 640x480 with 1 Axes>"
            ]
          },
          "metadata": {},
          "output_type": "display_data"
        }
      ],
      "source": [
        "data.cellType.hist()"
      ]
    },
    {
      "cell_type": "markdown",
      "metadata": {
        "id": "_jDx0Z5YBNRJ"
      },
      "source": [
        "dropping patient id as it is not relevant to the findings"
      ]
    },
    {
      "cell_type": "code",
      "execution_count": null,
      "metadata": {
        "id": "p-X0CfIYBNRJ"
      },
      "outputs": [],
      "source": [
        "data = data.drop('patientID',axis=1)"
      ]
    },
    {
      "cell_type": "code",
      "execution_count": null,
      "metadata": {
        "id": "pgzLHnMABNRJ",
        "outputId": "b25c3a8c-5cad-461f-a3b0-05eeac1ce707"
      },
      "outputs": [
        {
          "data": {
            "image/png": "[encoded data removed]",
            "text/plain": [
              "<Figure size 1600x400 with 4 Axes>"
            ]
          },
          "metadata": {},
          "output_type": "display_data"
        }
      ],
      "source": [
        "r_inx = np.random.choice(100, 4)\n",
        "rand_data = data.loc[r_inx,'image_path']\n",
        "\n",
        "plt.figure(figsize=(16,4))\n",
        "for i, image_path in enumerate(rand_data):\n",
        "    im = np.asarray(Image.open(image_path))\n",
        "    plt.subplot(1,4,i+1)\n",
        "    plt.imshow(im,cmap='gray')\n",
        "    plt.axis('off')\n",
        "    \n",
        "plt.show()"
      ]
    },
    {
      "cell_type": "code",
      "execution_count": null,
      "metadata": {
        "id": "YKtsHbk7BNRJ"
      },
      "outputs": [],
      "source": [
        "from sklearn.model_selection import train_test_split"
      ]
    },
    {
      "cell_type": "markdown",
      "metadata": {
        "id": "22bYqHjyBNRK"
      },
      "source": [
        "Splitting into training and test sets"
      ]
    },
    {
      "cell_type": "code",
      "execution_count": null,
      "metadata": {
        "id": "tpEPY7INBNRK"
      },
      "outputs": [],
      "source": [
        "train_data,test_data = train_test_split(data, test_size=0.2, random_state=42)"
      ]
    },
    {
      "cell_type": "code",
      "execution_count": null,
      "metadata": {
        "id": "3z780sqiBNRK"
      },
      "outputs": [],
      "source": [
        "train_data,val_data = train_test_split(train_data, test_size=0.25, random_state=42)"
      ]
    },
    {
      "cell_type": "code",
      "execution_count": null,
      "metadata": {
        "id": "N2v79neSBNRK",
        "outputId": "96cb7449-d524-4f69-d987-df7d0548146d"
      },
      "outputs": [
        {
          "name": "stdout",
          "output_type": "stream",
          "text": [
            "Train data : 5937, Val Data: 1979, Test Data: 1980\n"
          ]
        }
      ],
      "source": [
        "print(\"Train data : {}, Val Data: {}, Test Data: {}\".format(train_data.shape[0], val_data.shape[0], test_data.shape[0]))"
      ]
    },
    {
      "cell_type": "markdown",
      "metadata": {
        "id": "lJx7RCviBNRK"
      },
      "source": [
        "Build the Baseline for cellType"
      ]
    },
    {
      "cell_type": "code",
      "execution_count": null,
      "metadata": {
        "id": "ZnpPTtvQBNRK"
      },
      "outputs": [],
      "source": [
        "INPUT_DIM = (27,27,3)\n",
        "HIDDEN_LAYER_DIM = 256\n",
        "OUTPUT_CLASSES_CELLTYPE = 4"
      ]
    },
    {
      "cell_type": "code",
      "execution_count": null,
      "metadata": {
        "id": "d7HGzTKfBNRK",
        "outputId": "77c11ffe-6bf2-4e1f-fb15-038bf1272ea1"
      },
      "outputs": [
        {
          "name": "stdout",
          "output_type": "stream",
          "text": [
            "Model: \"sequential\"\n",
            "_________________________________________________________________\n",
            " Layer (type)                Output Shape              Param #   \n",
            "=================================================================\n",
            " flatten (Flatten)           (None, 2187)              0         \n",
            "                                                                 \n",
            " dense (Dense)               (None, 256)               560128    \n",
            "                                                                 \n",
            " dense_1 (Dense)             (None, 4)                 1028      \n",
            "                                                                 \n",
            "=================================================================\n",
            "Total params: 561,156\n",
            "Trainable params: 561,156\n",
            "Non-trainable params: 0\n",
            "_________________________________________________________________\n"
          ]
        }
      ],
      "source": [
        "model_type.summary()"
      ]
    },
    {
      "cell_type": "code",
      "execution_count": null,
      "metadata": {
        "id": "Qegdos0vBNRK",
        "outputId": "c345eafe-7fb9-425f-ad7f-d8b9e68da9be"
      },
      "outputs": [
        {
          "name": "stderr",
          "output_type": "stream",
          "text": [
            "2023-05-10 21:26:40.657618: I tensorflow/core/platform/cpu_feature_guard.cc:151] This TensorFlow binary is optimized with oneAPI Deep Neural Network Library (oneDNN) to use the following CPU instructions in performance-critical operations:  AVX2 FMA\n",
            "To enable them in other operations, rebuild TensorFlow with the appropriate compiler flags.\n"
          ]
        }
      ],
      "source": [
        "import tensorflow as tf\n",
        "model_type = tf.keras.Sequential([\n",
        "    tf.keras.layers.Flatten(input_shape=INPUT_DIM),\n",
        "    tf.keras.layers.Dense(HIDDEN_LAYER_DIM, activation='sigmoid'),\n",
        "    tf.keras.layers.Dense(OUTPUT_CLASSES_CELLTYPE)\n",
        "])"
      ]
    },
    {
      "cell_type": "code",
      "execution_count": null,
      "metadata": {
        "id": "l1j0uMuoBNRK"
      },
      "outputs": [],
      "source": [
        "model_type.compile(optimizer='SGD',\n",
        "              loss=tf.keras.losses.CategoricalCrossentropy(from_logits=True),\n",
        "              metrics=['categorical_accuracy'])"
      ]
    },
    {
      "cell_type": "code",
      "execution_count": null,
      "metadata": {
        "id": "T4HMZH0KBNRK"
      },
      "outputs": [],
      "source": [
        "train_data['cellType'] = train_data['cellType'].astype('str')\n",
        "val_data['cellType'] = val_data['cellType'].astype('str')"
      ]
    },
    {
      "cell_type": "code",
      "execution_count": null,
      "metadata": {
        "id": "heTbjbdfBNRK",
        "outputId": "c2e73bd2-e60f-469b-d048-1ded053a156d"
      },
      "outputs": [
        {
          "name": "stdout",
          "output_type": "stream",
          "text": [
            "<class 'pandas.core.frame.DataFrame'>\n",
            "Int64Index: 5937 entries, 9533 to 9349\n",
            "Data columns (total 6 columns):\n",
            " #   Column        Non-Null Count  Dtype \n",
            "---  ------        --------------  ----- \n",
            " 0   InstanceID    5937 non-null   int64 \n",
            " 1   ImageName     5937 non-null   object\n",
            " 2   cellTypeName  5937 non-null   object\n",
            " 3   cellType      5937 non-null   object\n",
            " 4   isCancerous   5937 non-null   int64 \n",
            " 5   image_path    5937 non-null   object\n",
            "dtypes: int64(2), object(4)\n",
            "memory usage: 324.7+ KB\n"
          ]
        }
      ],
      "source": [
        "train_data.info()"
      ]
    },
    {
      "cell_type": "code",
      "execution_count": null,
      "metadata": {
        "id": "WWvjfY_OBNRK",
        "outputId": "0f856ecb-c8ed-4792-f6e4-d216e6948b14"
      },
      "outputs": [
        {
          "name": "stdout",
          "output_type": "stream",
          "text": [
            "Found 5937 validated image filenames belonging to 4 classes.\n",
            "Found 1979 validated image filenames belonging to 4 classes.\n"
          ]
        }
      ],
      "source": [
        "from tensorflow.keras.preprocessing.image import ImageDataGenerator\n",
        "\n",
        "datagen = ImageDataGenerator(\n",
        "    rescale=1./255,  # Normalize pixel values to [0, 1]\n",
        "    rotation_range=20,  # Randomly rotate images by 20 degrees\n",
        "    width_shift_range=0.1,  # Randomly shift images horizontally by 10%\n",
        "    height_shift_range=0.1,  # Randomly shift images vertically by 10%\n",
        "    zoom_range=0.1,  # Randomly zoom in on images by 10%\n",
        "    horizontal_flip=True  # Randomly flip images horizontally\n",
        ")\n",
        "\n",
        "batch_size = 32\n",
        "\n",
        "train_generator_type = datagen.flow_from_dataframe(\n",
        "        dataframe=train_data,\n",
        "        directory='./',\n",
        "        x_col=\"image_path\",\n",
        "        y_col=\"cellType\",\n",
        "        target_size=(27, 27),\n",
        "        batch_size=batch_size,\n",
        "        class_mode='categorical')\n",
        "\n",
        "validation_generator_type = datagen.flow_from_dataframe(\n",
        "        dataframe=val_data,\n",
        "        directory='./',\n",
        "        x_col=\"image_path\",\n",
        "        y_col=\"cellType\",\n",
        "        target_size=(27, 27),\n",
        "        batch_size=batch_size,\n",
        "        class_mode='categorical')"
      ]
    },
    {
      "cell_type": "code",
      "execution_count": null,
      "metadata": {
        "id": "OvMK3hlIBNRL",
        "outputId": "1f5fb06c-fa37-41a3-ad60-2e2f570adb9f"
      },
      "outputs": [
        {
          "name": "stderr",
          "output_type": "stream",
          "text": [
            "/var/folders/sc/1ljq9fgn41xfwkqd6rv0dzgm0000gn/T/ipykernel_31590/4068620594.py:1: UserWarning: `Model.fit_generator` is deprecated and will be removed in a future version. Please use `Model.fit`, which supports generators.\n",
            "  history_type = model_type.fit_generator(train_generator_type, validation_data = validation_generator_type, epochs=50, verbose=0)\n"
          ]
        }
      ],
      "source": [
        "history_type = model_type.fit_generator(train_generator_type, validation_data = validation_generator_type, epochs=50, verbose=0)"
      ]
    },
    {
      "cell_type": "code",
      "execution_count": null,
      "metadata": {
        "id": "8gBgw3wFBNRL",
        "outputId": "edbf8998-40cb-4aff-93fa-209c3eecd0ea"
      },
      "outputs": [
        {
          "data": {
            "image/png": "[encoded data removed]",
            "text/plain": [
              "<Figure size 1000x500 with 2 Axes>"
            ]
          },
          "metadata": {},
          "output_type": "display_data"
        }
      ],
      "source": [
        "plt.figure(figsize=(10,5))\n",
        "plt.subplot(1,2,1)\n",
        "plt.plot(history_type.history['loss'], 'r--')\n",
        "plt.plot(history_type.history['val_loss'], 'b--')\n",
        "plt.xlabel(\"epochs\")\n",
        "plt.ylabel(\"Loss\")\n",
        "plt.legend(['train', 'val'], loc='upper left')\n",
        "\n",
        "plt.subplot(1,2,2)\n",
        "plt.plot(history_type.history['categorical_accuracy'], 'r--')\n",
        "plt.plot(history_type.history['val_categorical_accuracy'], 'b--')\n",
        "plt.xlabel(\"epochs\")\n",
        "plt.ylabel(\"Accuracy\")\n",
        "plt.legend(['train', 'val'], loc='upper left')\n",
        "plt.show()\n",
        "\n",
        "plt.show()"
      ]
    },
    {
      "cell_type": "code",
      "execution_count": null,
      "metadata": {
        "id": "pGtuNMiDBNRL",
        "outputId": "9a29c44d-5cd4-4b42-8750-7942881a26e3"
      },
      "outputs": [
        {
          "data": {
            "image/png": "[encoded data removed]",
            "text/plain": [
              "<Figure size 1000x500 with 2 Axes>"
            ]
          },
          "metadata": {},
          "output_type": "display_data"
        }
      ],
      "source": [
        "plt.figure(figsize=(10,5))#with Augmentation \n",
        "plt.subplot(1,2,1)\n",
        "plt.plot(history_type.history['loss'], 'r--')\n",
        "plt.plot(history_type.history['val_loss'], 'b--')\n",
        "plt.xlabel(\"epochs\")\n",
        "plt.ylabel(\"Loss\")\n",
        "plt.legend(['train', 'val'], loc='upper left')\n",
        "\n",
        "plt.subplot(1,2,2)\n",
        "plt.plot(history_type.history['categorical_accuracy'], 'r--')\n",
        "plt.plot(history_type.history['val_categorical_accuracy'], 'b--')\n",
        "plt.xlabel(\"epochs\")\n",
        "plt.ylabel(\"Accuracy\")\n",
        "plt.legend(['train', 'val'], loc='upper left')\n",
        "plt.show()\n",
        "\n",
        "plt.show()"
      ]
    },
    {
      "cell_type": "code",
      "execution_count": null,
      "metadata": {
        "id": "jtvgA3X3BNRL",
        "outputId": "57fc929a-e7b2-414c-899c-f7d2f2275236"
      },
      "outputs": [
        {
          "name": "stdout",
          "output_type": "stream",
          "text": [
            "Found 1979 validated image filenames belonging to 4 classes.\n"
          ]
        },
        {
          "name": "stderr",
          "output_type": "stream",
          "text": [
            "/var/folders/sc/1ljq9fgn41xfwkqd6rv0dzgm0000gn/T/ipykernel_8273/1492610608.py:11: UserWarning: `Model.predict_generator` is deprecated and will be removed in a future version. Please use `Model.predict`, which supports generators.\n",
            "  y_pred_probs = model_type.predict_generator(test_generator)\n"
          ]
        },
        {
          "data": {
            "image/png": "[encoded data removed]",
            "text/plain": [
              "<Figure size 800x600 with 2 Axes>"
            ]
          },
          "metadata": {},
          "output_type": "display_data"
        }
      ],
      "source": [
        "test_generator = val_datagen.flow_from_dataframe(\n",
        "    dataframe=val_data,\n",
        "    directory='./',\n",
        "    x_col=\"image_path\",\n",
        "    y_col=\"cellType\",\n",
        "    target_size=(27, 27),\n",
        "    batch_size=batch_size,\n",
        "    class_mode='categorical',\n",
        "    shuffle=False)\n",
        "\n",
        "y_pred_probs = model_type.predict_generator(test_generator)\n",
        "y_pred_labels = np.argmax(y_pred_probs, axis=1)\n",
        "y_true_labels = test_generator.classes\n",
        "\n",
        "confusion_matrix = tf.math.confusion_matrix(y_true_labels, y_pred_labels)\n",
        "\n",
        "\n",
        "plt.figure(figsize=(8, 6))\n",
        "sns.heatmap(confusion_matrix, annot=True, fmt='d', cmap='Blues')\n",
        "plt.xlabel('Predicted Labels')\n",
        "plt.ylabel('True Labels')\n",
        "plt.title('Confusion Matrix')\n",
        "plt.show()"
      ]
    },
    {
      "cell_type": "code",
      "execution_count": null,
      "metadata": {
        "id": "VLtoWbuXBNRL",
        "outputId": "a74e99c3-4759-4b96-8bb7-2bc413e60afe"
      },
      "outputs": [
        {
          "name": "stdout",
          "output_type": "stream",
          "text": [
            "Found 1979 validated image filenames belonging to 4 classes.\n"
          ]
        },
        {
          "name": "stderr",
          "output_type": "stream",
          "text": [
            "/var/folders/sc/1ljq9fgn41xfwkqd6rv0dzgm0000gn/T/ipykernel_31590/3542125384.py:11: UserWarning: `Model.predict_generator` is deprecated and will be removed in a future version. Please use `Model.predict`, which supports generators.\n",
            "  y_pred_probs = model_type.predict_generator(test_generator)\n"
          ]
        },
        {
          "data": {
            "image/png": "[encoded data removed]",
            "text/plain": [
              "<Figure size 800x600 with 2 Axes>"
            ]
          },
          "metadata": {},
          "output_type": "display_data"
        }
      ],
      "source": [
        "test_generator = datagen.flow_from_dataframe(\n",
        "    dataframe=val_data,\n",
        "    directory='./',\n",
        "    x_col=\"image_path\",\n",
        "    y_col=\"cellType\",\n",
        "    target_size=(27, 27),\n",
        "    batch_size=batch_size,\n",
        "    class_mode='categorical',\n",
        "    shuffle=False) #with Augmentation\n",
        "\n",
        "y_pred_probs = model_type.predict_generator(test_generator)\n",
        "y_pred_labels = np.argmax(y_pred_probs, axis=1)\n",
        "y_true_labels = test_generator.classes\n",
        "\n",
        "confusion_matrix = tf.math.confusion_matrix(y_true_labels, y_pred_labels)\n",
        "\n",
        "\n",
        "plt.figure(figsize=(8, 6))\n",
        "sns.heatmap(confusion_matrix, annot=True, fmt='d', cmap='Blues')\n",
        "plt.xlabel('Predicted Labels')\n",
        "plt.ylabel('True Labels')\n",
        "plt.title('Confusion Matrix')\n",
        "plt.show()"
      ]
    },
    {
      "cell_type": "code",
      "execution_count": null,
      "metadata": {
        "id": "0EAFSN5rBNRM"
      },
      "outputs": [],
      "source": []
    }
  ],
  "metadata": {
    "kernelspec": {
      "display_name": "Python 3 (ipykernel)",
      "language": "python",
      "name": "python3"
    },
    "language_info": {
      "codemirror_mode": {
        "name": "ipython",
        "version": 3
      },
      "file_extension": ".py",
      "mimetype": "text/x-python",
      "name": "python",
      "nbconvert_exporter": "python",
      "pygments_lexer": "ipython3",
      "version": "3.8.5"
    },
    "colab": {
      "provenance": []
    }
  },
  "nbformat": 4,
  "nbformat_minor": 0
}